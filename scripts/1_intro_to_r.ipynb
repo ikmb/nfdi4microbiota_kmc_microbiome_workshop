{
  "cells": [
    {
      "cell_type": "raw",
      "id": "a4d79470",
      "metadata": {
        "vscode": {
          "languageId": "raw"
        }
      },
      "source": [
        "---\n",
        "title: \"Introduction to R\"\n",
        "author: \"Ana Schaan (aschaan@ikmb.uni-kiel.de) and Malte Rühlemann (m.ruehlemann@ikmb.uni-kiel.de)\" \n",
        "---"
      ]
    },
    {
      "cell_type": "markdown",
      "id": "39c92abc",
      "metadata": {},
      "source": [
        "# Packages and functions in R \n",
        "This is how you load packages into R. Packages contain a series of functions and data developed by R community. We will be working with tidyverse. Normally, you load all the packages needed at the beginning of your code.\n",
        "\n",
        "Packages are collections of functions that are often written and collected for a specific purpose. [Bioconductor](https://www.bioconductor.org/) is a place where many packages aimed at the analysis of biological data are archived and provided for installation. For this part of the tutorial which aims at introducing you to R using [tidyverse](https://www.tidyverse.org/), we will load named `tidyverse` pacakge.\n"
      ]
    },
    {
      "cell_type": "code",
      "execution_count": null,
      "id": "d7ebfe14",
      "metadata": {
        "vscode": {
          "languageId": "r"
        }
      },
      "outputs": [],
      "source": [
        "library(tidyverse)"
      ]
    },
    {
      "cell_type": "markdown",
      "id": "97c669df",
      "metadata": {},
      "source": [
        "# R\n",
        "\n",
        "R is a software language for statistical analyses. There is tons of excellent quality info out there. So, we will focus on the practical aspects of it.\n",
        "\n",
        "## Getting help\n",
        "\n",
        "* Just ask!\n",
        "* `help.start()` and the HTML help button in the Windows GUI.\n",
        "* `help` and `?`: `help(\"data.frame\")` or `?help`.\n",
        "* `help.search()`, `apropos()`. example, `apropos(\"sum\")`\n",
        "* `browseVignettes(\"package\")`\n",
        "* rseek.org\n",
        "* There is always the internet :)"
      ]
    },
    {
      "cell_type": "markdown",
      "id": "ae6cac3e",
      "metadata": {
        "lines_to_next_cell": 0
      },
      "source": [
        "# Basic data types and functions\n",
        "\n",
        "R is an object-oriented language, so every data item is an object in R. These are the following basic data types in R.\n",
        "\n",
        "* numeric: real number"
      ]
    },
    {
      "cell_type": "code",
      "execution_count": null,
      "id": "1715b06d",
      "metadata": {
        "vscode": {
          "languageId": "r"
        }
      },
      "outputs": [],
      "source": [
        "1"
      ]
    },
    {
      "cell_type": "markdown",
      "id": "753db0f4",
      "metadata": {
        "lines_to_next_cell": 0
      },
      "source": [
        "* character: chain of characters, text"
      ]
    },
    {
      "cell_type": "code",
      "execution_count": null,
      "id": "24c60564",
      "metadata": {
        "vscode": {
          "languageId": "r"
        }
      },
      "outputs": [],
      "source": [
        "\"1\""
      ]
    },
    {
      "cell_type": "markdown",
      "id": "1dba3be4",
      "metadata": {
        "lines_to_next_cell": 0
      },
      "source": [
        "* logical: TRUE, FALSE"
      ]
    },
    {
      "cell_type": "code",
      "execution_count": null,
      "id": "8cd0fd4b",
      "metadata": {
        "vscode": {
          "languageId": "r"
        }
      },
      "outputs": [],
      "source": [
        "TRUE\n",
        "FALSE"
      ]
    },
    {
      "cell_type": "markdown",
      "id": "aebf90c0",
      "metadata": {
        "lines_to_next_cell": 0
      },
      "source": [
        "* special values:  NA (missing value), NULL (\"empty object\"),\n",
        "Inf,  -Inf (infinity), NaN (not a number) "
      ]
    },
    {
      "cell_type": "code",
      "execution_count": null,
      "id": "abc6b655",
      "metadata": {
        "vscode": {
          "languageId": "r"
        }
      },
      "outputs": [],
      "source": [
        "NA"
      ]
    },
    {
      "cell_type": "markdown",
      "id": "60701caa",
      "metadata": {},
      "source": [
        "## Assignments\n",
        "\n",
        "It is practical to store objects and values into named objects. You assign names to values using `<-` as `name_of_object <- value` or `=` as `name_of_object = value`. "
      ]
    },
    {
      "cell_type": "code",
      "execution_count": null,
      "id": "f4b2994e",
      "metadata": {
        "vscode": {
          "languageId": "r"
        }
      },
      "outputs": [],
      "source": [
        "x <- 6\n",
        "x\n",
        "y <- \"object y is a text\"\n",
        "y\n",
        "z <- FALSE\n",
        "z"
      ]
    },
    {
      "cell_type": "markdown",
      "id": "9873e1cd",
      "metadata": {},
      "source": [
        "Now check that the *x*, *y* and *z* appeared on the environment. Use the function `ls()` to inspect the environment using the console.\n",
        "\n",
        "## Functions\n",
        "\n",
        "Functions contain operations that will be applied to objects. Functions have arguments which normally are of two kinds: 1. the **data** to which the operations will be applied on. 2. the **details** of the operations (so-called \"arguments\").\n"
      ]
    },
    {
      "cell_type": "code",
      "execution_count": null,
      "id": "a0d224fd",
      "metadata": {
        "vscode": {
          "languageId": "r"
        }
      },
      "outputs": [],
      "source": [
        "x <- 1\n",
        "y <- \"This is a text\"\n",
        "\n",
        "print(x)\n",
        "print(y)\n",
        "print(y, quote = FALSE)"
      ]
    },
    {
      "cell_type": "markdown",
      "id": "049e5f71",
      "metadata": {},
      "source": [
        "* Remember that you can use `?` (e.g. `?print()`)to get information about functions arguments.\n",
        "* Use the `TAB` keyboard to get suggestion of function and object names with AUTOCOMPLETE. This is very useful!"
      ]
    },
    {
      "cell_type": "markdown",
      "id": "79958a7a",
      "metadata": {},
      "source": [
        "# Data types and arithmetic\n",
        "\n",
        "You can do easy maths-tasks in R:"
      ]
    },
    {
      "cell_type": "code",
      "execution_count": null,
      "id": "587eab92",
      "metadata": {
        "vscode": {
          "languageId": "r"
        }
      },
      "outputs": [],
      "source": [
        "4 + 6"
      ]
    },
    {
      "cell_type": "markdown",
      "id": "65b62fb2",
      "metadata": {},
      "source": [
        "...and you can do the same in R using data stored in objects:"
      ]
    },
    {
      "cell_type": "code",
      "execution_count": null,
      "id": "ac22d244",
      "metadata": {
        "lines_to_next_cell": 2,
        "vscode": {
          "languageId": "r"
        }
      },
      "outputs": [],
      "source": [
        "a <- 4\n",
        "b <- 6\n",
        "\n",
        "a + b"
      ]
    },
    {
      "cell_type": "markdown",
      "id": "80b84eb5",
      "metadata": {},
      "source": [
        "## Vectors\n",
        "\n",
        "Vectors in R are collections of the same object types (numeric, character/string, logical) within an object"
      ]
    },
    {
      "cell_type": "code",
      "execution_count": null,
      "id": "632b55c0",
      "metadata": {
        "vscode": {
          "languageId": "r"
        }
      },
      "outputs": [],
      "source": [
        "z <- c(5, 9, 1, 0)\n",
        "#this is a comment within the code.\n",
        "z"
      ]
    },
    {
      "cell_type": "markdown",
      "id": "f5d78a91",
      "metadata": {
        "lines_to_next_cell": 0
      },
      "source": [
        "__Exercise: Creating sequences__\n",
        "\n",
        "- 1. Try out using the function `seq()` to create a vector from 1 to 9 skipping every second number. Store results in a object name \"odds\".\n",
        "- 2. Use the function rep to create a vector with the number 1 repeated ten times. \n",
        "Hint: you can inspect what the function does by typing `?seq()`.\n",
        "\n",
        "## Factor: categorical data that takes a fixed set of values\n",
        "Similar to vectors, but are designed to represent categorical data that can take a fixed set of possible values. Factors are built on top of integers, and have a levels attribute:"
      ]
    },
    {
      "cell_type": "code",
      "execution_count": null,
      "id": "89778bbb",
      "metadata": {
        "vscode": {
          "languageId": "r"
        }
      },
      "outputs": [],
      "source": [
        "factor(1)\n",
        "x <- factor(c(\"wt\", \"wt\", \"mut\", \"mut\"), levels = c(\"wt\", \"mut\"))\n",
        "x"
      ]
    },
    {
      "cell_type": "markdown",
      "id": "8f201bf3",
      "metadata": {},
      "source": [
        "## Component-wise operations"
      ]
    },
    {
      "cell_type": "code",
      "execution_count": null,
      "id": "a1988a1e",
      "metadata": {
        "lines_to_next_cell": 2,
        "vscode": {
          "languageId": "r"
        }
      },
      "outputs": [],
      "source": [
        "x <- c(6, 8 , 9 )\n",
        "x + 2"
      ]
    },
    {
      "cell_type": "markdown",
      "id": "de72eb84",
      "metadata": {},
      "source": [
        "You can apply functions to vectors. Two useful functions to keep in mind:\n",
        "\n",
        "* `length`, which returns the length of a vector (i.e. the number of elements it contains)\n",
        "* `sum` which calculates the sum of the elements of a vector\n",
        "\n",
        "other interesting ones\n",
        "\n",
        "*  ` mean(a)`\n",
        "*  ` summary(a)`\n",
        "*  ` min(a,b)`, `max(a,b)`\n",
        "\n",
        "# Summaries, subscripting and useful vector functions\n",
        "\n",
        "Let's suppose we've collected some data from an experiment and stored them in an object `x`.\n",
        "Some simple summary statistics of these data can be produced:"
      ]
    },
    {
      "cell_type": "code",
      "execution_count": null,
      "id": "7f2c2d9b",
      "metadata": {
        "echo": true,
        "lines_to_next_cell": 2,
        "name": "summary_1",
        "vscode": {
          "languageId": "r"
        }
      },
      "outputs": [],
      "source": [
        "x <- c(7.5, 8.2, 3.1, 5.6, 8.2, 9.3, 6.5, 7.0, 9.3, 1.2, 14.5, 6.2)\n",
        "\n",
        "mean(x)"
      ]
    },
    {
      "cell_type": "code",
      "execution_count": null,
      "id": "e5317a8f",
      "metadata": {
        "vscode": {
          "languageId": "r"
        }
      },
      "outputs": [],
      "source": [
        "var(x)"
      ]
    },
    {
      "cell_type": "code",
      "execution_count": null,
      "id": "f427192c",
      "metadata": {
        "vscode": {
          "languageId": "r"
        }
      },
      "outputs": [],
      "source": [
        "summary(x)"
      ]
    },
    {
      "cell_type": "markdown",
      "id": "cdd57e39",
      "metadata": {},
      "source": [
        "You can pick one or more elements of a vector by using the `[]` and the `index` of the element.\n",
        "\n",
        "It is easy to get the first element by indicating its index (1)."
      ]
    },
    {
      "cell_type": "code",
      "execution_count": null,
      "id": "fb32a8e5",
      "metadata": {
        "vscode": {
          "languageId": "r"
        }
      },
      "outputs": [],
      "source": [
        "x[1]"
      ]
    },
    {
      "cell_type": "markdown",
      "id": "087dd96e",
      "metadata": {},
      "source": [
        "You can substract one element of the vector as well using `-`. For instance, get all elements except the 3rd."
      ]
    },
    {
      "cell_type": "code",
      "execution_count": null,
      "id": "0551a9fa",
      "metadata": {
        "vscode": {
          "languageId": "r"
        }
      },
      "outputs": [],
      "source": [
        "x[-3]"
      ]
    },
    {
      "cell_type": "markdown",
      "id": "4341f9a2",
      "metadata": {},
      "source": [
        "And you can use a vector of indexes to select one of more elements."
      ]
    },
    {
      "cell_type": "code",
      "execution_count": null,
      "id": "339553b8",
      "metadata": {
        "vscode": {
          "languageId": "r"
        }
      },
      "outputs": [],
      "source": [
        "x[c(1,5,8)]\n"
      ]
    },
    {
      "cell_type": "code",
      "execution_count": null,
      "id": "ce9bb4ce",
      "metadata": {
        "vscode": {
          "languageId": "r"
        }
      },
      "outputs": [],
      "source": [
        "x[-(1:6)]"
      ]
    },
    {
      "cell_type": "markdown",
      "id": "21bac113",
      "metadata": {},
      "source": [
        "Subscripting is very useful. For instance, using the experimental data about, let's suppose that we subsequently learn that the first 6 data points correspond to measurements made in one experiment, and the second six on another experiment.\n",
        "This might suggest summarizing the two sets of data separately, so we would need to extract from\n",
        "`x` the two relevant subvectors. This is achieved by subscripting."
      ]
    },
    {
      "cell_type": "code",
      "execution_count": null,
      "id": "8e03c34e",
      "metadata": {
        "echo": true,
        "lines_to_next_cell": 2,
        "name": "subscr",
        "vscode": {
          "languageId": "r"
        }
      },
      "outputs": [],
      "source": [
        "x[1:6]\n",
        "summary(x[1:6])"
      ]
    },
    {
      "cell_type": "code",
      "execution_count": null,
      "id": "0bfc9418",
      "metadata": {
        "vscode": {
          "languageId": "r"
        }
      },
      "outputs": [],
      "source": [
        "x[7:12]\n",
        "summary(x[7:12])"
      ]
    },
    {
      "cell_type": "markdown",
      "id": "20a40992",
      "metadata": {
        "lines_to_next_cell": 0
      },
      "source": [
        "The function `head` provides a preview of the vector. "
      ]
    },
    {
      "cell_type": "code",
      "execution_count": null,
      "id": "82378000",
      "metadata": {
        "vscode": {
          "languageId": "r"
        }
      },
      "outputs": [],
      "source": [
        "head(x)"
      ]
    },
    {
      "cell_type": "markdown",
      "id": "f96e5558",
      "metadata": {},
      "source": [
        "There are also useful functions to order and sort vectors:"
      ]
    },
    {
      "cell_type": "markdown",
      "id": "c6615ee9",
      "metadata": {},
      "source": [
        "*  `sort`:  sort in increasing order\n",
        "*  `order`: orders the indexes is such a way that the elements of the vector are sorted, i.e `sort(v) =  v[order(v)]` "
      ]
    },
    {
      "cell_type": "code",
      "execution_count": null,
      "id": "cf51f43f",
      "metadata": {
        "echo": true,
        "lines_to_next_cell": 2,
        "name": "sort-rank",
        "vscode": {
          "languageId": "r"
        }
      },
      "outputs": [],
      "source": [
        "x <- c(1.3, 3.5, 2.7, 6.3, 6.3)\n",
        "sort(x)"
      ]
    },
    {
      "cell_type": "markdown",
      "id": "93fdd32b",
      "metadata": {},
      "source": [
        "*  `order`: orders the indexes is such a way that the elements of the vector are sorted, i.e `sort(v) =  v[order(v)]` "
      ]
    },
    {
      "cell_type": "code",
      "execution_count": null,
      "id": "aff37546",
      "metadata": {
        "vscode": {
          "languageId": "r"
        }
      },
      "outputs": [],
      "source": [
        "order(x)"
      ]
    },
    {
      "cell_type": "code",
      "execution_count": null,
      "id": "b365c27c",
      "metadata": {
        "vscode": {
          "languageId": "r"
        }
      },
      "outputs": [],
      "source": [
        "x[order(x)]"
      ]
    },
    {
      "cell_type": "markdown",
      "id": "635b6f7d",
      "metadata": {},
      "source": [
        "*  `rank`: gives the ranks of the elements\n",
        "of a vector, different options for handling *ties* are\n",
        "available. \n",
        "\n"
      ]
    },
    {
      "cell_type": "code",
      "execution_count": null,
      "id": "3e3da7e3",
      "metadata": {
        "vscode": {
          "languageId": "r"
        }
      },
      "outputs": [],
      "source": [
        "rank(x)"
      ]
    },
    {
      "cell_type": "markdown",
      "id": "9f82f44a",
      "metadata": {},
      "source": [
        "# Matrices, lists,  data frames and basic data handling\n",
        "\n",
        "## Matrices\n",
        "\n",
        "Matrices are two--dimensional vectors and \n",
        "can be created in R in a variety of ways.\n",
        "\n",
        "### Creating matrices\n",
        "Create the columns and then glue them together with the command `cbind`. For example:"
      ]
    },
    {
      "cell_type": "code",
      "execution_count": null,
      "id": "a67e8d42",
      "metadata": {
        "echo": true,
        "name": "cbind-ex",
        "vscode": {
          "languageId": "r"
        }
      },
      "outputs": [],
      "source": [
        "x <- c(5, 7 , 9)\n",
        "y <- c(6, 3 , 4)\n",
        "z <- cbind(x, y)\n",
        "z\n",
        "dim(z)"
      ]
    },
    {
      "cell_type": "markdown",
      "id": "b73860f2",
      "metadata": {
        "lines_to_next_cell": 0
      },
      "source": [
        "We can also use the function `matrix()` directly to create a matrix."
      ]
    },
    {
      "cell_type": "code",
      "execution_count": null,
      "id": "984ac7ca",
      "metadata": {
        "echo": true,
        "name": "matrix_direct",
        "vscode": {
          "languageId": "r"
        }
      },
      "outputs": [],
      "source": [
        "z <- matrix(c(5, 7, 9, 6, 3, 4), nrow = 3)"
      ]
    },
    {
      "cell_type": "markdown",
      "id": "95b1b81f",
      "metadata": {},
      "source": [
        "There is a similar command, `rbind`, for building matrices by gluing rows together.\n",
        "The functions `cbind` and `rbind` can also be applied to matrices themselves  (provided the dimensions match) to form larger matrices.\n",
        "\n",
        "### Matrices operations\n",
        "\n",
        "R will try to interpret operations on matrices in a natural way. \n",
        "For example, with z as above, and y defined below we get:"
      ]
    },
    {
      "cell_type": "code",
      "execution_count": null,
      "id": "1988e1c6",
      "metadata": {
        "echo": true,
        "name": "Matrix-op",
        "vscode": {
          "languageId": "r"
        }
      },
      "outputs": [],
      "source": [
        "y <- matrix(c(1, 3, 0, 9, 5, -1), nrow = 3, byrow = TRUE)\n",
        "y"
      ]
    },
    {
      "cell_type": "code",
      "execution_count": null,
      "id": "4bde9cfc",
      "metadata": {
        "echo": true,
        "name": "Matrix-op-1",
        "vscode": {
          "languageId": "r"
        }
      },
      "outputs": [],
      "source": [
        "y + z"
      ]
    },
    {
      "cell_type": "code",
      "execution_count": null,
      "id": "2b9c6269",
      "metadata": {
        "echo": true,
        "name": "Matrix-op-2",
        "vscode": {
          "languageId": "r"
        }
      },
      "outputs": [],
      "source": [
        "y * z"
      ]
    },
    {
      "cell_type": "markdown",
      "id": "c324307a",
      "metadata": {},
      "source": [
        "Notice that multiplication here is component--wise.\n",
        "As with vectors it is useful to be able to extract sub-components of matrices. \n",
        "\n",
        "### Subsetting\n",
        "\n",
        "As before, the `[ ]` notation is used to subscript. The following examples illustrate this:"
      ]
    },
    {
      "cell_type": "code",
      "execution_count": null,
      "id": "8f7de334",
      "metadata": {
        "echo": true,
        "name": "Matrix-op-4",
        "vscode": {
          "languageId": "r"
        }
      },
      "outputs": [],
      "source": [
        "z[1, 1]\n",
        "z[, 2]\n",
        "z[1:2, ]\n",
        "z[-1, ]\n",
        "z[-c(1, 2), ]"
      ]
    },
    {
      "cell_type": "markdown",
      "id": "9ea662af",
      "metadata": {},
      "source": [
        "So, in particular, it is necessary to specify which rows and columns are required, whilst omitting the index for either dimension implies that every element in that dimension is selected.\n"
      ]
    },
    {
      "cell_type": "markdown",
      "id": "364f908e",
      "metadata": {},
      "source": [
        "## Data frames (tibbles) and lists"
      ]
    },
    {
      "cell_type": "markdown",
      "id": "ac2874a2",
      "metadata": {},
      "source": [
        "A data frame is  a matrix where the columns can have different data types.\n",
        "As such, it is usually used to represent a whole data set, where the rows\n",
        "represent the samples and columns the variables. Essentially, you can think\n",
        "of a data frame as an excel table.\n",
        "\n",
        "[Tidyverse](https://www.tidyverse.org/) is a collection of R packages for data science. In tidyverse, the package `r CRANpkg(\"tibble\")` improves the conventional R `data.frame` class. A tibble is a `data.frame` which a lot of tweaks and more sensible defaults that make your life easier."
      ]
    },
    {
      "cell_type": "markdown",
      "id": "f1e48122",
      "metadata": {},
      "source": [
        "Let's illustrate this by loading the GMbC metadata for each individual stored in a file in tab--separated-format (tsv). We load it using the function\n",
        "`read_tsv`, which is used to import a data file in *tab separated format --- tsv* into R. In a .tsv--file the data  are stored row--wise, and the entries in each row are separated by commas. \n",
        "\n",
        "The function `read_tsv` is from the `r CRANpkg(\"readr\")` package and will\n",
        "give us a tibble as the result."
      ]
    },
    {
      "cell_type": "code",
      "execution_count": null,
      "id": "e71aeea0",
      "metadata": {
        "echo": true,
        "name": "load-Patients",
        "vscode": {
          "languageId": "r"
        }
      },
      "outputs": [],
      "source": [
        "metadata <- read_tsv(\"~/kmc_workshop/inputs/metadata_gmbc_bn10_complete_fixed.tsv\")\n",
        "#metadata <- read.table(\"metadata_gmbc_bn10_complete_fixed.tsv\", stringsAsFactors = F)\n",
        "#metadata = metadata %>% rownames_to_column(\"SampleID\")\n",
        "#write_tsv(metadata, \"metadata_gmbc_bn10_complete_fixed.tsv\")\n",
        "\n",
        "\n",
        "metadata\n"
      ]
    },
    {
      "cell_type": "markdown",
      "id": "586f867f",
      "metadata": {},
      "source": [
        "It has many information on the sampled individuals in the GMbC collection that were acquired using questionnaires, such as their place of residence, their age, their weight and height, and information about their life, e.g. what they eat, how they live, etc.\n",
        "\n",
        "## Accessing data in data frames\n",
        "\n",
        "Now that we have imported the data set, you might be wondering how to \n",
        "actually access the data. For this the functions `filter` and `select` from\n",
        "the `r CRANpkg(\"dplyr\")` package of the `r CRANpkg(\"tidyverse\")` are useful.\n",
        "`filter` will select  certain rows (observations),\n",
        "while `select` will subset the columns (variables of the data). \n",
        "\n",
        "In the following command, we get all the patients that are taller than 190cm and select their height and\n",
        "the country they were sampled in, as well as their Id:"
      ]
    },
    {
      "cell_type": "code",
      "execution_count": null,
      "id": "c3974b21",
      "metadata": {
        "name": "subset_data",
        "vscode": {
          "languageId": "r"
        }
      },
      "outputs": [],
      "source": [
        "pat_tall <- filter(metadata, height_cm > 190)\n",
        "select(pat_tall, SampleID,  height_cm, country)"
      ]
    },
    {
      "cell_type": "markdown",
      "id": "21b815f9",
      "metadata": {},
      "source": [
        "There are a couple of operators useful for comparisons:\n",
        "\n",
        "*  `Variable == value`: equal\n",
        "*  `Variable != value`: un--equal\n",
        "*  `Variable < value`: less\n",
        "*  `Variable > value`: greater\n",
        "*  `&: and`\n",
        "*  `|` or\n",
        "*  `!`: negation\n",
        "*  `%in%`: is element?\n",
        "\n",
        "The function `filter` allows us to combine multiple conditions easily, \n",
        "if you specify multiple of them, they will automatically concatenated via a `&`.\n",
        "\n",
        "For example, we can easily get tall individuals from Ghana via:\n"
      ]
    },
    {
      "cell_type": "code",
      "execution_count": null,
      "id": "f258f5f3",
      "metadata": {
        "echo": true,
        "lines_to_next_cell": 0,
        "name": "light_and_small_patients",
        "vscode": {
          "languageId": "r"
        }
      },
      "outputs": [],
      "source": [
        "filter(metadata, height_cm > 190, country == \"Ghana\")"
      ]
    },
    {
      "cell_type": "markdown",
      "id": "0175a452",
      "metadata": {},
      "source": [
        "We can also retrieve tall individuals OR individuals from Ghana via"
      ]
    },
    {
      "cell_type": "code",
      "execution_count": null,
      "id": "226629ef",
      "metadata": {
        "echo": true,
        "lines_to_next_cell": 2,
        "name": "light_or_small_patients",
        "vscode": {
          "languageId": "r"
        }
      },
      "outputs": [],
      "source": [
        "filter(metadata, (height_cm > 190) | (country == \"tall\"))"
      ]
    },
    {
      "cell_type": "markdown",
      "id": "b7215ec6",
      "metadata": {},
      "source": [
        "## Computing variables from existing ones \n",
        "\n",
        "Using available tidyverse functions, we can also create new columns in our data frames. \n",
        "\n",
        "Let's try to calculate the Body-Mass-Index (BMI), defined as BMI = Weight (kg) / Height (m).\n",
        "\n",
        "As the metdata carries the height in cm, we first need to transform this to meters in a new column. Then we used the new column and the weight column to calculated the BMI:"
      ]
    },
    {
      "cell_type": "code",
      "execution_count": null,
      "id": "d0383a35",
      "metadata": {
        "name": "transform_example",
        "vscode": {
          "languageId": "r"
        }
      },
      "outputs": [],
      "source": [
        "metadata_new = mutate(metadata, height_m = height_cm / 100)\n",
        "metadata_new = mutate(metadata_new, BMI = weight_kg / height_m^2)\n",
        "\n",
        "head(select(metadata_new, SampleID, height_cm, weight_kg, height_m, BMI))"
      ]
    },
    {
      "cell_type": "markdown",
      "id": "ed3c8710",
      "metadata": {
        "lines_to_next_cell": 0
      },
      "source": [
        "# Combine sequences of actions with pipes\n",
        "\n",
        "Use `%>%` (pipe) to emphasize a sequence of actions, rather than the object that the actions are being performed on. Pipe is a function from `r CRANpkg(\"magrittr\")`. New versions of R (> 4.1) have a native pipe: `|>`. Pipes are useful to skip the need of naming intermediate files.\n",
        "\n",
        "Pipes redirects the object placed before the pipe to the function placed after the pipe."
      ]
    },
    {
      "cell_type": "code",
      "execution_count": null,
      "id": "533a02a6",
      "metadata": {
        "vscode": {
          "languageId": "r"
        }
      },
      "outputs": [],
      "source": [
        "bmi_selected <- metadata %>% #object here is a data.frame\n",
        "  mutate(., height_m = height_cm / 100) %>% # The object data frame is placed where you indicate it with an \".\".\n",
        "  mutate(BMI = weight_kg / height_m^2) %>% # Also, pipe places automatically in the first position of the function\n",
        "  select(SampleID, country, height_cm, weight_kg, height_m, BMI)\n",
        "\n",
        "bmi_selected"
      ]
    },
    {
      "cell_type": "markdown",
      "id": "80d5ef77",
      "metadata": {},
      "source": [
        "You can see, we also selected the \"country\" column and stored everything in the new object `bmi_selected`."
      ]
    },
    {
      "cell_type": "markdown",
      "id": "fea3934c",
      "metadata": {},
      "source": [
        "# Plots with ggplot2\n",
        "\n",
        "The package `r CRANpkg(\"ggplot2\")` allows very flexible plotting in R. It is very power but it has its own grammar, which is not very intuitive at first.\n",
        "\n",
        "There are 3 basic components of ggplot2 grammar:\n",
        "\n",
        "*  **Data.** The dataframe to be plotted\n",
        "* **Geometrics.** The geommetric shape to represent the data (e.g., point, boxplot)\n",
        "* **Aesthetics.** The aesthetics of the geometric object (e.g., color, size, shape)"
      ]
    },
    {
      "cell_type": "markdown",
      "id": "eda90d1e",
      "metadata": {},
      "source": [
        "Ggplots are build up by combining the plot elements. For instance, first you build the plot are, then you select the geometrics and their aesthetics. See example below."
      ]
    },
    {
      "cell_type": "markdown",
      "id": "c8c796be",
      "metadata": {
        "lines_to_next_cell": 0
      },
      "source": [
        "Build plot frames."
      ]
    },
    {
      "cell_type": "code",
      "execution_count": null,
      "id": "f223db43",
      "metadata": {
        "vscode": {
          "languageId": "r"
        }
      },
      "outputs": [],
      "source": [
        "ggplot(data = bmi_selected, aes(x = height_m, y = weight_kg))"
      ]
    },
    {
      "cell_type": "markdown",
      "id": "963460e4",
      "metadata": {},
      "source": [
        "## Scatterplot\n",
        "\n",
        "Add plot geometrics. In this case we are plotting a scatter plot, which is a done by plotting points (geometric `geom_point`). Note that we are using an `+` to add the geometrics to the plot area."
      ]
    },
    {
      "cell_type": "code",
      "execution_count": null,
      "id": "ad091098",
      "metadata": {
        "vscode": {
          "languageId": "r"
        }
      },
      "outputs": [],
      "source": [
        "ggplot(data = bmi_selected, aes(x = height_m, y = weight_kg)) +\n",
        "  geom_point()"
      ]
    },
    {
      "cell_type": "markdown",
      "id": "54cac40c",
      "metadata": {
        "lines_to_next_cell": 0
      },
      "source": [
        "## Scatterplot with additional data \n",
        "\n",
        "Now that we have a basic plot to outlined, we can work on geometric aesthetics."
      ]
    },
    {
      "cell_type": "code",
      "execution_count": null,
      "id": "6ae3cae9",
      "metadata": {
        "lines_to_next_cell": 0,
        "vscode": {
          "languageId": "r"
        }
      },
      "outputs": [],
      "source": [
        "# make the size proportional to the age\n",
        "ggplot(data = bmi_selected, aes(x = height_m, y = weight_kg)) +\n",
        "  geom_point(aes(color=BMI))\n",
        "\n",
        "#colour by binned weight\n",
        "ggplot(data = bmi_selected, aes(x = height_m, y = weight_kg)) +\n",
        "  geom_point(aes(color = country))\n"
      ]
    },
    {
      "cell_type": "markdown",
      "id": "334e6d64",
      "metadata": {
        "lines_to_next_cell": 0
      },
      "source": [
        "As you can see, we can color the points using additional data. ggplot2 also automatically detects the type of data that is used: the first plot is colored in a gradient as `BMI` has numerical values, the second plot uses discrete colors as `country` is a vector of strings/characters values. \n",
        "\n",
        "## Histograms\n",
        "\n",
        "Another kind of plot: histogram. Similarly, first the plot frame is build, followed by the geometric."
      ]
    },
    {
      "cell_type": "code",
      "execution_count": null,
      "id": "a8e73d25",
      "metadata": {
        "vscode": {
          "languageId": "r"
        }
      },
      "outputs": [],
      "source": [
        "bmi_selected %>% # note that we are using pipe to redirect the data frame to the function ggplot\n",
        "  ggplot(aes(x = weight_kg)) +\n",
        "  geom_histogram()"
      ]
    },
    {
      "cell_type": "markdown",
      "id": "8e45943d",
      "metadata": {},
      "source": [
        "## Boxplots\n",
        "\n",
        "Another kind of plot: Box plots."
      ]
    },
    {
      "cell_type": "code",
      "execution_count": null,
      "id": "00456ff5",
      "metadata": {
        "vscode": {
          "languageId": "r"
        }
      },
      "outputs": [],
      "source": [
        "bmi_selected %>% \n",
        "  ggplot(aes(x = country, y = height_cm)) +\n",
        "  geom_boxplot()\n"
      ]
    },
    {
      "cell_type": "markdown",
      "id": "bf5ae321",
      "metadata": {},
      "source": [
        "## Combining geometrics\n",
        "\n",
        "Different geometric can be combined, for instance boxplot and points."
      ]
    },
    {
      "cell_type": "code",
      "execution_count": null,
      "id": "3dd7b031",
      "metadata": {
        "lines_to_next_cell": 0,
        "vscode": {
          "languageId": "r"
        }
      },
      "outputs": [],
      "source": [
        "bmi_selected %>% \n",
        "  ggplot(aes(x = country, y = height_cm)) +\n",
        "  geom_boxplot(outlier.color = NA) +\n",
        "  geom_point()"
      ]
    },
    {
      "cell_type": "markdown",
      "id": "3fdfee41",
      "metadata": {},
      "source": []
    },
    {
      "cell_type": "markdown",
      "id": "ddfb57ce",
      "metadata": {},
      "source": [
        "Different geometrics offer different visualization of the same data."
      ]
    },
    {
      "cell_type": "code",
      "execution_count": null,
      "id": "f2836507",
      "metadata": {
        "vscode": {
          "languageId": "r"
        }
      },
      "outputs": [],
      "source": [
        "bmi_selected %>% \n",
        "  ggplot(aes(x = country, y = height_cm)) +\n",
        "  geom_boxplot(outlier.color = NA) +\n",
        "  geom_jitter()"
      ]
    },
    {
      "cell_type": "markdown",
      "id": "e9d22469",
      "metadata": {
        "lines_to_next_cell": 0
      },
      "source": [
        "## Changing plot colors and other parameters\n",
        "\n",
        "Plot appearance can also be done without being dependent on a specific variable. For instance, color all points blue or add transparancy to all of points. These modifications are done out of the `aes()` functions, but withing the geometric functions (`geom_*`)"
      ]
    },
    {
      "cell_type": "code",
      "execution_count": null,
      "id": "1ccf1b3a",
      "metadata": {
        "vscode": {
          "languageId": "r"
        }
      },
      "outputs": [],
      "source": [
        "bmi_selected %>% \n",
        "  ggplot(aes(x = country, y = height_cm)) +\n",
        "  geom_boxplot(outlier.color = NA) +\n",
        "  geom_jitter(alpha = 0.5, # alpha is transparency\n",
        "              color = \"blue\") \n"
      ]
    },
    {
      "cell_type": "markdown",
      "id": "054ee1c4",
      "metadata": {},
      "source": [
        "Any aspects of the plot can be modified. For instance, we are making the plot more informative by adding labels to the axes."
      ]
    },
    {
      "cell_type": "code",
      "execution_count": null,
      "id": "b504b79b",
      "metadata": {
        "vscode": {
          "languageId": "r"
        }
      },
      "outputs": [],
      "source": [
        "bmi_selected %>% \n",
        "  ggplot(aes(x = country, y = height_cm)) +\n",
        "  geom_boxplot(outlier.color = NA) +\n",
        "  geom_jitter(alpha = 0.5, # alpha is transparency\n",
        "              color = \"blue\") +\n",
        "  labs(x = \"Country of sampling\", y = \"Height (cm)\") +\n",
        "  theme_classic()"
      ]
    },
    {
      "cell_type": "markdown",
      "id": "4aa690a7",
      "metadata": {},
      "source": [
        "You can do much much more with ggplot2. Some good ideas ideas are found on the tutorial by [Zev Ross and Cédric Scherer](https://www.cedricscherer.com/2019/08/05/a-ggplot2-tutorial-for-beautiful-plotting-in-r/) and the Book [`Data Visualization` by Keiran Healy ](https://socviz.co/).\n",
        "\n",
        "Here is an example of a plot that shows the distribution of samples along the first two lifestyle principal components, colored by the variable \"subsistence\", which is a broad categorization of lifestyles. Large shapes show the centroids of group means of the samples in each \"urbanism\" category"
      ]
    },
    {
      "cell_type": "code",
      "execution_count": null,
      "id": "b413ba39",
      "metadata": {
        "vscode": {
          "languageId": "r"
        }
      },
      "outputs": [],
      "source": [
        "metadata %>% \n",
        "    ggplot(aes(x=Dim1_lifestyle, y=Dim2_lifestyle)) +\n",
        "    theme_bw() + theme(panel.grid=element_blank(), legend.position = \"right\") +\n",
        "    xlab(\"Lifestyle (Dim1)\") + ylab(\"Lifestyle (Dim2)\") +\n",
        "    geom_point(aes(shape=lifestyle, fill=urbanism)) +\n",
        "    scale_shape_manual(values=c(21,22)) + \n",
        "    scale_fill_brewer(palette=\"Paired\") +\n",
        "    geom_point(data = . %>% group_by(urbanism) %>% \n",
        "               summarise(\n",
        "                Dim1_lifestyle=mean(Dim1_lifestyle),\n",
        "                Dim2_lifestyle=mean(Dim2_lifestyle)),\n",
        "               aes(fill=as.factor(urbanism)), size=10, shape=23)\n"
      ]
    },
    {
      "cell_type": "markdown",
      "id": "4580659a",
      "metadata": {},
      "source": [
        "# Sources\n",
        "\n",
        "* Most of this tutorial is an *ipsis litteris* copy of the tutorial given by [Bernd Klaus at the EMBL in 2017](https://www.huber.embl.de/users/klaus/tidyverse_R_intro/R-lab.html).\n",
        "\n",
        "* We also got inspired and got some ideas from the slides from [Olivier Gimenez workshop on reproducible science](https://oliviergimenez.github.io/reproducible-science-workshop/).\n",
        "\n",
        "* Lucas created the original document, Malte adapted parts for use in the KMC Workshop 2024.\n",
        "\n",
        "* For more extensive and view of R coding with Tidyverse see their [style guide](https://style.tidyverse.org/)."
      ]
    },
    {
      "cell_type": "markdown",
      "id": "64811f4d",
      "metadata": {},
      "source": [
        "# Session information"
      ]
    },
    {
      "cell_type": "code",
      "execution_count": null,
      "id": "d9c1f6fd",
      "metadata": {
        "lines_to_next_cell": 0,
        "vscode": {
          "languageId": "r"
        }
      },
      "outputs": [],
      "source": [
        "sessionInfo()"
      ]
    },
    {
      "cell_type": "markdown",
      "id": "ea28fb3e",
      "metadata": {},
      "source": []
    }
  ],
  "metadata": {
    "jupytext": {
      "cell_metadata_filter": "echo,name,-all",
      "main_language": "R",
      "notebook_metadata_filter": "-all"
    },
    "kernelspec": {
      "display_name": "kmc_workshop",
      "language": "R",
      "name": "kmc_workshop"
    },
    "language_info": {
      "codemirror_mode": "r",
      "file_extension": ".r",
      "mimetype": "text/x-r-source",
      "name": "R",
      "pygments_lexer": "r",
      "version": "4.3.3"
    }
  },
  "nbformat": 4,
  "nbformat_minor": 5
}
