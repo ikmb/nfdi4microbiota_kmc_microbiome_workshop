{
 "cells": [
  {
   "cell_type": "markdown",
   "id": "3e15fc65",
   "metadata": {},
   "source": [
    "# Analysis of Beta-Diversity"
   ]
  },
  {
   "cell_type": "markdown",
   "id": "493e1376",
   "metadata": {},
   "source": [
    "By Olga Brovkina (o.brovkina@ikmb.uni-kiel.de) \\\n",
    "This document provides an analysis of beta-diversity using a distance matrix and metadata."
   ]
  },
  {
   "cell_type": "markdown",
   "id": "ac4f5349",
   "metadata": {},
   "source": [
    "## Load Required Libraries\n",
    "We will work with two specific microbiome packages `phyloseq` ans `vegan`. The `tidyverse` package is common R package"
   ]
  },
  {
   "cell_type": "code",
   "execution_count": null,
   "id": "6e169d98",
   "metadata": {
    "vscode": {
     "languageId": "r"
    }
   },
   "outputs": [],
   "source": [
    "suppressMessages(suppressWarnings(library(vegan)))\n",
    "suppressMessages(suppressWarnings(library(ggplot2)))\n",
    "suppressMessages(suppressWarnings(library(phyloseq)))"
   ]
  },
  {
   "cell_type": "markdown",
   "id": "2d1796ea",
   "metadata": {},
   "source": [
    "## Load phyloseq object from previous step\n",
    "We will use rarefied samples for this analysis"
   ]
  },
  {
   "cell_type": "code",
   "execution_count": null,
   "id": "25755f7f",
   "metadata": {
    "vscode": {
     "languageId": "r"
    }
   },
   "outputs": [],
   "source": [
    "load(\"~/kmc_workshop/R_objects/subset_rare_phyloseq_object.RData\")"
   ]
  },
  {
   "cell_type": "markdown",
   "id": "6f744090",
   "metadata": {},
   "source": [
    "## Perform PCoA ordination using Bray-Curtis distance\n",
    "ps.rare argument specifies the phyloseq object that contains your microbiome data.\n",
    "method = \"PCoA\": This specifies that Principal Coordinates Analysis (PCoA) is the ordination method to be used.\n",
    "distance = \"bray\": This indicates that the Bray-Curtis dissimilarity is the distance metric used for the PCoA."
   ]
  },
  {
   "cell_type": "code",
   "execution_count": null,
   "id": "0272e23f",
   "metadata": {
    "vscode": {
     "languageId": "r"
    }
   },
   "outputs": [],
   "source": [
    "bray <- ordinate(\n",
    "  physeq = ps.rare, \n",
    "  method = \"PCoA\", \n",
    "  distance = \"bray\"\n",
    ")"
   ]
  },
  {
   "cell_type": "code",
   "execution_count": null,
   "id": "5bd19e1f",
   "metadata": {
    "solution2": "hidden",
    "solution2_first": true,
    "vscode": {
     "languageId": "r"
    }
   },
   "outputs": [],
   "source": [
    "#What other distances and methods are avialable in vegan package in `ordination` function? Try below other approach"
   ]
  },
  {
   "cell_type": "code",
   "execution_count": null,
   "id": "d1a0a952",
   "metadata": {
    "solution2": "hidden",
    "vscode": {
     "languageId": "r"
    }
   },
   "outputs": [],
   "source": [
    "help(ordinate)"
   ]
  },
  {
   "cell_type": "code",
   "execution_count": null,
   "id": "8af092fd",
   "metadata": {
    "solution2": "hidden",
    "solution2_first": true,
    "vscode": {
     "languageId": "r"
    }
   },
   "outputs": [],
   "source": [
    "# Explore variables in your sample_data"
   ]
  },
  {
   "cell_type": "code",
   "execution_count": null,
   "id": "9689570e",
   "metadata": {
    "solution2": "hidden",
    "vscode": {
     "languageId": "r"
    }
   },
   "outputs": [],
   "source": [
    "sample_data(ps.rare)"
   ]
  },
  {
   "cell_type": "markdown",
   "id": "95da0e8d",
   "metadata": {
    "solution": "shown"
   },
   "source": [
    "## Creating PCoA ordination plot based on Bray-Curtis distance\n",
    "We colored scatters by country and shaped by lifestyle. You can choose other variables from the sample_data(ps.rare)"
   ]
  },
  {
   "cell_type": "code",
   "execution_count": null,
   "id": "6ac5267c",
   "metadata": {
    "vscode": {
     "languageId": "r"
    }
   },
   "outputs": [],
   "source": [
    "plot_ordination(\n",
    "  physeq = ps.rare,                                 \n",
    "  ordination = bray) + \n",
    "  geom_point(aes(color = country, shape = lifestyle), size = 3) +  # Points are colored by country and shaped by lifestyle\n",
    "  theme_classic() +                                                 # Applying a classic theme for a clean look\n",
    "  theme(legend.title = element_blank(),                             # Removing legend titles for simplicity\n",
    "        legend.position = \"right\",                                  # Positioning the legend on the right side\n",
    "        text = element_text(size = 12),                             # Setting the base text size\n",
    "        axis.title = element_text(size = 14))  "
   ]
  },
  {
   "cell_type": "code",
   "execution_count": null,
   "id": "81c4ee7e",
   "metadata": {
    "solution": "shown",
    "solution2": "hidden",
    "solution2_first": true,
    "solution_first": true,
    "vscode": {
     "languageId": "r"
    }
   },
   "outputs": [],
   "source": [
    "#Here you can try other variables for colors and shape. Which type variables can not be used for shapes? "
   ]
  },
  {
   "cell_type": "markdown",
   "id": "bedd24ff",
   "metadata": {
    "solution2": "hidden"
   },
   "source": [
    "continuous "
   ]
  },
  {
   "cell_type": "markdown",
   "id": "0c60e33a",
   "metadata": {},
   "source": [
    "you can also save the plot. Saving plot as pdf will provide you with the best resolution. Sometimes it is woth to save the plot as png/jpg object, e.g. for presentation "
   ]
  },
  {
   "cell_type": "code",
   "execution_count": null,
   "id": "3596ac2c",
   "metadata": {
    "vscode": {
     "languageId": "r"
    }
   },
   "outputs": [],
   "source": [
    "p1 <- plot_ordination(\n",
    "  physeq = ps.rare,                                 \n",
    "  ordination = bray) + \n",
    "  geom_point(aes(color = country, shape = lifestyle), size = 3) +  \n",
    "  theme_classic() +                                                 \n",
    "  theme(legend.title = element_blank(),                             \n",
    "        legend.position = \"right\",                                  \n",
    "        text = element_text(size = 12),                             \n",
    "        axis.title = element_text(size = 14))\n",
    "\n",
    "# Save the plot as a PDF\n",
    "ggsave(filename = \"~/kmc_workshop/results/pcoa_bray.pdf\", plot = p1, device = \"pdf\", width = 10, height = 6)"
   ]
  },
  {
   "cell_type": "markdown",
   "id": "86f15f1a",
   "metadata": {},
   "source": [
    "## Perform PCoA ordination using Weighted UniFrac distance\n",
    "This approach incorporates the relative abundances of taxa, providing a more nuanced measure of community differences that takes into account both phylogenetic relationships and species abundances."
   ]
  },
  {
   "cell_type": "code",
   "execution_count": null,
   "id": "d1846b5d",
   "metadata": {
    "vscode": {
     "languageId": "r"
    }
   },
   "outputs": [],
   "source": [
    "wuni <- ordinate(\n",
    "  physeq = ps.rare, \n",
    "  method = \"PCoA\", \n",
    "  distance = \"wunifrac\"\n",
    ")"
   ]
  },
  {
   "cell_type": "markdown",
   "id": "06c83f12",
   "metadata": {},
   "source": [
    "## Creating PCoA ordination plot based on Weighted UniFrac distance"
   ]
  },
  {
   "cell_type": "code",
   "execution_count": null,
   "id": "393453e7",
   "metadata": {
    "vscode": {
     "languageId": "r"
    }
   },
   "outputs": [],
   "source": [
    "plot_ordination(\n",
    "  physeq = ps.rare,                                 \n",
    "  ordination = wuni) + \n",
    "  geom_point(aes(color = country, shape = lifestyle), size = 3) + \n",
    "  theme_classic() +                                                 \n",
    "  theme(legend.title = element_blank(),                             \n",
    "        legend.position = \"right\",                                  \n",
    "        text = element_text(size = 12),                            \n",
    "        axis.title = element_text(size = 14)) "
   ]
  },
  {
   "cell_type": "markdown",
   "id": "b70c5eb5",
   "metadata": {},
   "source": [
    "## Creating Weighted UniFrac distance object \n",
    "to analyse how environmental variables influence the variation in community data we need distances, not ordination!"
   ]
  },
  {
   "cell_type": "code",
   "execution_count": null,
   "id": "fac0564c",
   "metadata": {
    "vscode": {
     "languageId": "r"
    }
   },
   "outputs": [],
   "source": [
    "uni_distance <- phyloseq::distance(ps.rare, method = \"wunifrac\")"
   ]
  },
  {
   "cell_type": "markdown",
   "id": "af602b98",
   "metadata": {},
   "source": [
    "## Prepare metadata"
   ]
  },
  {
   "cell_type": "code",
   "execution_count": null,
   "id": "0a25817a",
   "metadata": {
    "vscode": {
     "languageId": "r"
    }
   },
   "outputs": [],
   "source": [
    "meta_encoded <- sample_data(ps.rare)"
   ]
  },
  {
   "cell_type": "code",
   "execution_count": null,
   "id": "1aa8cce6",
   "metadata": {
    "vscode": {
     "languageId": "r"
    }
   },
   "outputs": [],
   "source": [
    "meta_encoded <- data.frame(meta_encoded)\n",
    "for (col in colnames(meta_encoded)) {\n",
    "  if (is.factor(meta_encoded[[col]]) || is.character(meta_encoded[[col]])) {\n",
    "    meta_encoded[[col]] <- as.numeric(factor(meta_encoded[[col]]))\n",
    "  }\n",
    "}"
   ]
  },
  {
   "cell_type": "markdown",
   "id": "ef6d2ed7",
   "metadata": {},
   "source": [
    "Check if there are any remaining missing values"
   ]
  },
  {
   "cell_type": "code",
   "execution_count": null,
   "id": "d5173c4e",
   "metadata": {
    "vscode": {
     "languageId": "r"
    }
   },
   "outputs": [],
   "source": [
    "sapply(meta_encoded, function(x) sum(is.na(x)))"
   ]
  },
  {
   "cell_type": "code",
   "execution_count": null,
   "id": "b39c15a1",
   "metadata": {
    "solution": "hidden",
    "solution2": "hidden",
    "solution2_first": true,
    "solution_first": true,
    "vscode": {
     "languageId": "r"
    }
   },
   "outputs": [],
   "source": [
    "#Capscale analysis is sensitive to missing values\n",
    "#In what situtaion will you drop the columns from the table with metadata and in what situations will you drop the rows (samples)?"
   ]
  },
  {
   "cell_type": "code",
   "execution_count": null,
   "id": "f3ac2e56",
   "metadata": {
    "solution2": "hidden",
    "vscode": {
     "languageId": "r"
    }
   },
   "outputs": [],
   "source": [
    "#situation where you drop the samples: 1.If a particular variable in the metadata is crucial for your research (e.g., age, gender, or a key clinical measurement), and some samples have missing values for that variable, you might choose to drop those samples. 2.If certain samples are outliers that could significantly skew your results \n",
    "#situation where you drop variable from meta_data: 1. the you need to preserve as much samples as possible; 2.If a variable is not essential to your research question or if it is highly correlated with another variable; 3. In cases where a variable has very little variation"
   ]
  },
  {
   "cell_type": "markdown",
   "id": "3c4b2278",
   "metadata": {},
   "source": [
    "# Perform constrained ordination using capscale"
   ]
  },
  {
   "cell_type": "code",
   "execution_count": null,
   "id": "dc8393ad",
   "metadata": {
    "vscode": {
     "languageId": "r"
    }
   },
   "outputs": [],
   "source": [
    "rda_model <- capscale(uni_distance ~ ., data = meta_encoded)"
   ]
  },
  {
   "cell_type": "markdown",
   "id": "1308744b",
   "metadata": {},
   "source": [
    "# Stepwise Selection with capscale\n",
    "We want to know which environmental variables are most important for explaining the variation in your data\n",
    "We will start with an intercept-only model as the lower scope"
   ]
  },
  {
   "cell_type": "code",
   "execution_count": null,
   "id": "56c8c6c3",
   "metadata": {
    "vscode": {
     "languageId": "r"
    }
   },
   "outputs": [],
   "source": [
    "lower_model <- capscale(uni_distance ~ 1, data = meta_encoded)"
   ]
  },
  {
   "cell_type": "markdown",
   "id": "9f0080df",
   "metadata": {},
   "source": [
    "Perform stepwise model selection"
   ]
  },
  {
   "cell_type": "code",
   "execution_count": null,
   "id": "3cb9f943",
   "metadata": {
    "vscode": {
     "languageId": "r"
    }
   },
   "outputs": [],
   "source": [
    "stepwise_model <- ordiR2step(lower_model, scope = formula(rda_model))"
   ]
  },
  {
   "cell_type": "markdown",
   "id": "c89f4ea5",
   "metadata": {},
   "source": [
    "## Plot the biplot based on rda_model"
   ]
  },
  {
   "cell_type": "code",
   "execution_count": null,
   "id": "0f484383",
   "metadata": {
    "vscode": {
     "languageId": "r"
    }
   },
   "outputs": [],
   "source": [
    "plot(rda_model, scaling = 2) "
   ]
  },
  {
   "cell_type": "markdown",
   "id": "3e32c4c7",
   "metadata": {},
   "source": [
    "## Perform adonis \n",
    "adonis takes a `dist` object as an input"
   ]
  },
  {
   "cell_type": "code",
   "execution_count": null,
   "id": "803119d7",
   "metadata": {
    "scrolled": true,
    "vscode": {
     "languageId": "r"
    }
   },
   "outputs": [],
   "source": [
    "adonis_result <- adonis2(\n",
    "  formula = uni_distance ~ country + lifestyle, \n",
    "  data = as(sample_data(ps.rare), \"data.frame\")\n",
    ")"
   ]
  },
  {
   "cell_type": "code",
   "execution_count": null,
   "id": "d9a27d52",
   "metadata": {
    "solution": "hidden",
    "solution2": "hidden",
    "solution2_first": true,
    "solution_first": true,
    "vscode": {
     "languageId": "r"
    }
   },
   "outputs": [],
   "source": [
    "# What will happen if we include both lifestyle and urbanism in our formula?"
   ]
  },
  {
   "cell_type": "code",
   "execution_count": null,
   "id": "e7940f3a",
   "metadata": {
    "solution2": "hidden",
    "vscode": {
     "languageId": "r"
    }
   },
   "outputs": [],
   "source": [
    "adonis_result <- adonis2(\n",
    "  formula = uni_distance ~ country + lifestyle +urbanism, \n",
    "  data = as(sample_data(ps.rare), \"data.frame\")\n",
    ")\n",
    "adonis_result"
   ]
  },
  {
   "cell_type": "markdown",
   "id": "836606d3",
   "metadata": {},
   "source": [
    "Let's incorporate adonis result into the final ordination plot\n",
    "We extract p-values from ADONIS result and define significance level for asterisks"
   ]
  },
  {
   "cell_type": "code",
   "execution_count": null,
   "id": "54cc595b",
   "metadata": {
    "vscode": {
     "languageId": "r"
    }
   },
   "outputs": [],
   "source": [
    "# Extract p-values from ADONIS result\n",
    "p_values <- adonis_result$`Pr(>F)`\n",
    "\n",
    "# Define significance level for asterisks\n",
    "asterisks <- ifelse(p_values < 0.001, \"***\", \n",
    "                    ifelse(p_values < 0.01, \"**\", \n",
    "                           ifelse(p_values < 0.05, \"*\", \"\")))\n",
    "\n",
    "p2 <- plot_ordination(\n",
    "  physeq = ps.rare,                                                         \n",
    "  ordination = wuni) +                                                \n",
    "  geom_point(aes(color = country, shape = lifestyle), size = 3) +  \n",
    "  theme_classic() +  \n",
    "  theme(legend.title = element_blank(),\n",
    "        legend.position = \"right\",  \n",
    "        text = element_text(size = 12),  \n",
    "        axis.title = element_text(size = 14)) \n",
    "\n",
    "# Adding asterisks to the plot manually\n",
    "p2 + annotate(\"text\", x = 0, y = 0.05, label = paste(\"Country:\", asterisks[1]), size = 5, color = \"black\") +\n",
    "  annotate(\"text\", x = 0, y = 0.045, label = paste(\"Lifestyle:\", asterisks[2]), size = 5, color = \"black\")"
   ]
  },
  {
   "cell_type": "code",
   "execution_count": null,
   "id": "a6e7f664",
   "metadata": {
    "vscode": {
     "languageId": "r"
    }
   },
   "outputs": [],
   "source": []
  }
 ],
 "metadata": {
  "kernelspec": {
   "display_name": "rnaseq_microbiome",
   "language": "R",
   "name": "rnaseq_microbiome"
  },
  "language_info": {
   "codemirror_mode": "r",
   "file_extension": ".r",
   "mimetype": "text/x-r-source",
   "name": "R",
   "pygments_lexer": "r",
   "version": "4.1.3"
  }
 },
 "nbformat": 4,
 "nbformat_minor": 5
}
