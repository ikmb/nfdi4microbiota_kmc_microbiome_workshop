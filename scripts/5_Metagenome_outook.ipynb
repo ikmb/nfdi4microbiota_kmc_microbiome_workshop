{
 "cells": [
  {
   "cell_type": "raw",
   "id": "cd624534",
   "metadata": {
    "vscode": {
     "languageId": "raw"
    }
   },
   "source": [
    "---\n",
    "title: \"Outlook to metagenomics\"\n",
    "author: \"Eike Matthias Wacker (e.wacker@ikmb.uni-kiel.de)\" \n",
    "---"
   ]
  },
  {
   "cell_type": "markdown",
   "id": "738e4224",
   "metadata": {},
   "source": [
    "This tutorial can partly be executed with the kernel 'kmc_workshop' directly in the code-cells of this jupyter-notebook."
   ]
  },
  {
   "cell_type": "markdown",
   "id": "602df497",
   "metadata": {},
   "source": [
    "**For parts of this tutorial, we ask you to use the terminal. Open the terminal via the dashboard (return to it by right-clicking \"jupyterhub\" in the top left corner, then select \"open link in new window\") -> new -> Other: Terminal**\n"
   ]
  },
  {
   "cell_type": "markdown",
   "id": "9da4a5a6",
   "metadata": {},
   "source": [
    "# Objective\n",
    "\n",
    "The aim of this tutorial is to give you an outlook, how you can work with metagenomic data.\n",
    "\n",
    "This time, we will not work with the earlier processed 16S dataset. Instead we will create a new dataset with that originates from metagenomic shot-gun reads."
   ]
  },
  {
   "cell_type": "markdown",
   "id": "046bd7e8",
   "metadata": {},
   "source": [
    "In addition to the method of amplicon sequencing, in which in our case areas in the ribosomal DNA of the 16S subunit are sequenced, there is also another method: Shotgun sequencing. With shotgun sequencing all DNA of the samples is sequenced and thus also full genomes for the microorganisms are present. This method, now called metagenomics, allows significantly more analysis options than what is possible with 16S data. This not only means a higher price per sample for sequencing, but also requires more computing power to process and ultimately analyze significantly larger data amounts. Since everything has been sequenced, the data naturally also contains reads that code for the 16S rRNA subunit. Therefore, in principle, it is also possible to use these as marker sequences to estimate taxa in the dataset, analogous to the pure 16S microbiome dataset. But these reads will only make up a tiny fraction (>1%) of the dataset, so we cannot recommend such use. Instead, there are many more clade-specific marker genes, which means that many more reads can be used for taxonomic determination in metagenomics.\n",
    "\n"
   ]
  },
  {
   "cell_type": "markdown",
   "id": "2fe72c44",
   "metadata": {},
   "source": [
    "# Practical part\n",
    "\n",
    "You will notice in the next steps that it is a little more complicated to work with metagenomes. We work with many different programs instead of R. This means that you have to read up on exactly what each program can do and install them all. Below we will give you a brief overview of how the first steps working with metagenomes look like.\n",
    "\n",
    "## Quality control\n",
    "\n",
    "If you want to work with metagenome data, you have to follow a few steps, similar to 16S data. Here, too, a quality control must first be carried out.\n",
    "\n",
    "\n",
    "To get to know the necessary QC steps, we will download a publicly available metagenome. We have already prepared this, but you could also download it with the following command if it is not available.\n",
    "\n",
    "It is necessary that we leave the Jupyter notebook and get to know the terminal of a Linux computer. JupyterHub also offers you this. Open a new tab while clicking on the jupterhub logo in the top left. In the JupyterHub, the terminal can be opened in the dashboard (where you can see all files structured,), click on the button at the top right labeled “New” and then select “Terminal” in the dropdown menu at the bottom. \n",
    "\n",
    "In the terminal activate the conda environment, in which we installed all the required tools for the next steps:"
   ]
  },
  {
   "cell_type": "code",
   "execution_count": null,
   "id": "c444b00f",
   "metadata": {
    "vscode": {
     "languageId": "bash"
    }
   },
   "outputs": [],
   "source": [
    "conda activate metagenome"
   ]
  },
  {
   "cell_type": "markdown",
   "id": "50171a86",
   "metadata": {},
   "source": [
    "If this has worked, the now active conda environment should be named before your username@biomedinf in the terminal window. Conda is a tool that allows you to create a so-called virtual environment so that tools and their dependencies do not interfere with other programs on the machine. That way we can generate reproducible results.\n",
    "\n",
    "Now we will create a new folder and go into it so that we can start the actual metagenome processing:"
   ]
  },
  {
   "cell_type": "code",
   "execution_count": null,
   "id": "aaf94f79",
   "metadata": {
    "vscode": {
     "languageId": "bash"
    }
   },
   "outputs": [],
   "source": [
    "mkdir ~/kmc_workshop/metagenome && cd ~/kmc_workshop/metagenome"
   ]
  },
  {
   "cell_type": "markdown",
   "id": "8d8b486c",
   "metadata": {},
   "source": [
    "A real metagenome data can be quite huge and therefor need lots of time and computational capacities to be processed."
   ]
  },
  {
   "cell_type": "markdown",
   "id": "0374aff8",
   "metadata": {},
   "source": [
    "So we fill this directory with our dummy metagenome. Now we can actually work with it:"
   ]
  },
  {
   "cell_type": "code",
   "execution_count": null,
   "id": "4e9749fa",
   "metadata": {
    "vscode": {
     "languageId": "bash"
    }
   },
   "outputs": [],
   "source": [
    "cd ~/kmc_workshop/metagenome #make sure you are in the right directory\n",
    "\n",
    "ln -s ~/kmc_workshop/inputs/metagenome/SRR5935872_2.fastq.gz ~/kmc_workshop/metagenome/MSM79H87_R2.fastq.gz && ln -s ~/kmc_workshop/inputs/metagenome/SRR5935872_1.fastq.gz ~/kmc_workshop/metagenome/MSM79H87_R1.fastq.gz"
   ]
  },
  {
   "cell_type": "markdown",
   "id": "22b43bb6",
   "metadata": {},
   "source": [
    "Now we assess the quality once before we start with the QC, we do this with the tool fastqc, which can generate an html output for each fastq file. "
   ]
  },
  {
   "cell_type": "code",
   "execution_count": null,
   "id": "da992ea1",
   "metadata": {
    "vscode": {
     "languageId": "bash"
    }
   },
   "outputs": [],
   "source": [
    "cd ~/kmc_workshop/metagenome\n",
    "\n",
    "fastqc --quiet --threads 2 MSM79H87_R1.fastq.gz MSM79H87_R2.fastq.gz"
   ]
  },
  {
   "cell_type": "markdown",
   "id": "f7acf90d",
   "metadata": {},
   "source": [
    "You will find the html-output for each fastq file in the directory as we are: ~/kmc_workshop/metagenome"
   ]
  },
  {
   "cell_type": "markdown",
   "id": "535e0d8e",
   "metadata": {},
   "source": [
    "First of all, the individual reads are examined for their sequencing quality. Particularly at the edges, the quality may not be good enough in some cases. For this we can use programs that automatically trim away these poorly sequenced bases. Additionally, the tool also checks which reads are actually paired and if there are some reads that are unpaired. Unpaired reads are separated into their own file."
   ]
  },
  {
   "cell_type": "code",
   "execution_count": null,
   "id": "74a5ca5e",
   "metadata": {
    "vscode": {
     "languageId": "bash"
    }
   },
   "outputs": [],
   "source": [
    "cd ~/kmc_workshop/metagenome\n",
    "\n",
    "bbduk.sh stats=MSM79H87.bbduk_adapter_stats threads=2 in=MSM79H87_R1.fastq.gz in2=MSM79H87_R2.fastq.gz out1=MSM79H87_R1_trimmed.fastq.gz out2=MSM79H87_R2_trimmed.fastq.gz outs=MSM79H87_unpaired_trimmed.fastq.gz ref=~/kmc_workshop/inputs/metagenome/bbmap/nextera.fa.gz ktrim=r k=23 mink=11 hdist=1 minlength=50 tpe tbo"
   ]
  },
  {
   "cell_type": "markdown",
   "id": "4f2e47bc",
   "metadata": {},
   "source": [
    "Our new outputs now have a 'trimmed' in the name, these are now further qced by removing not wanted reads in our files. These could be artifacts and so-called PhiX reads, that can be present during sequencing. Phix reads are internal controls during sequencing that should actually be removed during data export, but can still be found in some data. These should be removed in any case. We do this step twice, once for the paired reads, and one time for the sequences that are not paired."
   ]
  },
  {
   "cell_type": "code",
   "execution_count": null,
   "id": "e6ebc5fe",
   "metadata": {
    "vscode": {
     "languageId": "bash"
    }
   },
   "outputs": [],
   "source": [
    "cd ~/kmc_workshop/metagenome\n",
    "\n",
    "bbduk.sh stats=MSM79H87.bbduk.artifacts.stats threads=2 in=MSM79H87_R1_trimmed.fastq.gz in2=MSM79H87_R2_trimmed.fastq.gz k=31 ref=artifacts,phix ordered cardinality out1=MSM79H87_R1_cleanwithhost.fastq.gz out2=MSM79H87_R2_cleanwithhost.fastq.gz minlength=50\n",
    "\n",
    "bbduk.sh threads=2 in=MSM79H87_unpaired_trimmed.fastq.gz  k=31 ref=artifacts,phix ordered cardinality out1=MSM79H87_unpaired_cleanwithhost.fastq.gz minlength=50"
   ]
  },
  {
   "cell_type": "markdown",
   "id": "5670103b",
   "metadata": {},
   "source": [
    "Of course, stool samples also contain cells from the host, and therefore also their DNA. We try to remove this before sequencing so that we don't sequence something that we have to remove directly from our data. This is an important step as metagenome data with human reads inside can be traced back to their origin. This could cause some (legal) trouble if you want to publish your metagenomes at some point. \n",
    "\n",
    "To remove those, we use an aligner tool called Bowtie2. We align a human reference genome to our data and keep only reads that don't align. Everything else will be discarded."
   ]
  },
  {
   "cell_type": "code",
   "execution_count": null,
   "id": "196699e6",
   "metadata": {
    "vscode": {
     "languageId": "bash"
    }
   },
   "outputs": [],
   "source": [
    "cd ~/kmc_workshop/metagenome\n",
    "\n",
    "bowtie2 -x ~/kmc_workshop/inputs/metagenome/genome -1 MSM79H87_R1_cleanwithhost.fastq.gz -2 MSM79H87_R2_cleanwithhost.fastq.gz -U MSM79H87_unpaired_cleanwithhost.fastq.gz -S /dev/null --no-unal -p 2 --un-gz MSM79H87_unpaired_clean.fastq.gz --un-conc-gz MSM79H87_R%_clean.fastq.gz 2> MSM79H87_bowtie2_log.txt"
   ]
  },
  {
   "cell_type": "markdown",
   "id": "3f5a1a0d",
   "metadata": {},
   "source": [
    "We have now completed the most important steps of a qc. We can now use fastqc to inspect our finished reads more closely. This works as done before, just with different input files."
   ]
  },
  {
   "cell_type": "code",
   "execution_count": null,
   "id": "eb5724a4",
   "metadata": {
    "vscode": {
     "languageId": "bash"
    }
   },
   "outputs": [],
   "source": [
    "cd ~/kmc_workshop/metagenome\n",
    "\n",
    "fastqc --quiet--threads 2 MSM79H87_R1_clean.fastq.gz MSM79H87_R2_clean.fastq.gz"
   ]
  },
  {
   "cell_type": "markdown",
   "id": "4f2912b0",
   "metadata": {
    "solution2": "hidden",
    "solution2_first": true
   },
   "source": [
    "**TASK** Do you notice a difference between the fastqc reports from prior and after QC?"
   ]
  },
  {
   "cell_type": "markdown",
   "id": "9f8b87d0",
   "metadata": {
    "solution2": "hidden"
   },
   "source": [
    "If everything worked, only a few reads should have been removed. And there should be hardly any other differences. This is simply because public metagenomes have often already been QCed, as in this case. But that doesn't matter, the data can be QCed twice, just to be sure you are working with QCed data in the end."
   ]
  },
  {
   "cell_type": "markdown",
   "id": "c21bc9af",
   "metadata": {},
   "source": [
    "## Abundance estimation"
   ]
  },
  {
   "cell_type": "markdown",
   "id": "fefbebbd",
   "metadata": {},
   "source": [
    "As already mentioned, metagenomes are also useful for determining taxonomic abundances. There are a large number of programs with which this can be estimated. For example, there are MetaPhlAn, Kraken2, Salmon and many more that can do this. For this, you will always need a reference database that contains the markers. Therefore, you are always limited to the fact that you cannot find a thing if it is not stored in the database."
   ]
  },
  {
   "cell_type": "markdown",
   "id": "d33c0b1e",
   "metadata": {},
   "source": [
    "We will use a rather new released tool for this, it's called Sylph. Sylph is an extremely fast and memory efficient program for profiling and searching metagenomic samples against databases. You can find the preprint for how it actually works [here](https://www.biorxiv.org/content/10.1101/2023.11.20.567879v1.full). For us important is just, that it needs two steps that we need to perform and that we have prepared a database to query against. We use in this case a well-maintained database, that is called GENOME TAXONOMY DATABASE (GTDB). Sylph transforms the database of reference genomes and the metagenomes into subsampled k-mers which are then compares against."
   ]
  },
  {
   "cell_type": "code",
   "execution_count": null,
   "id": "d479ba82",
   "metadata": {
    "vscode": {
     "languageId": "bash"
    }
   },
   "outputs": [],
   "source": [
    "cd ~/kmc_workshop/metagenome\n",
    "\n",
    "sylph sketch -1 MSM79H87_R1_clean.fastq.gz -2 MSM79H87_R2_clean.fastq.gz -t 2"
   ]
  },
  {
   "cell_type": "markdown",
   "id": "003ed1a5",
   "metadata": {},
   "source": [
    "In the first step the metagenomes are so-called sketched, this results in \"bags of k-mers\". From this the tool then can later quickly estimate the average nucleotide identity (ANI) against the genomes in the database, which happens in the second step:"
   ]
  },
  {
   "cell_type": "code",
   "execution_count": null,
   "id": "88dbee6c",
   "metadata": {
    "vscode": {
     "languageId": "bash"
    }
   },
   "outputs": [],
   "source": [
    "cd ~/kmc_workshop/metagenome\n",
    "\n",
    "sylph profile -u --read-seq-id 99.1 ~/kmc_workshop/inputs/metagenome/gtdb-r220-c200-dbv1.syldb MSM79H87_R1_clean.fastq.gz.paired.sylsp -o  MSM79H87_sylph_profile.tbl -t 2"
   ]
  },
  {
   "cell_type": "markdown",
   "id": "40844985",
   "metadata": {},
   "source": [
    "The output is called 'MSM79H87_sylph_profile.tbl' and you can inspect it. You read the sylph profile with e.g. the command-line tool less:"
   ]
  },
  {
   "cell_type": "code",
   "execution_count": null,
   "id": "819ca9ab",
   "metadata": {
    "vscode": {
     "languageId": "bash"
    }
   },
   "outputs": [],
   "source": [
    "less /dpool/bioinformatics_rawdata/kmc_workshop/metagenome/MSM79H87_sylph_profile.tbl"
   ]
  },
  {
   "cell_type": "markdown",
   "id": "5d58e3bc",
   "metadata": {},
   "source": [
    "You can scroll with the arrow keys and exit the file with the 'q' key on your keyboard."
   ]
  },
  {
   "cell_type": "markdown",
   "id": "596a4355",
   "metadata": {},
   "source": [
    "## From Abundance table to a Phyloseq object\n",
    "Finally, you can now build a phyloseq object from such an abundance profile, with which you can use all the methods you have learned before.\n",
    "\n",
    "First we load all the libraries that we used earlier:"
   ]
  },
  {
   "cell_type": "code",
   "execution_count": null,
   "id": "9009a423",
   "metadata": {
    "scrolled": true,
    "vscode": {
     "languageId": "r"
    }
   },
   "outputs": [],
   "source": [
    "library(tidyverse) \n",
    "library(phyloseq)\n",
    "library(vegan) \n",
    "library(microbiome) \n",
    "library(data.table)"
   ]
  },
  {
   "cell_type": "markdown",
   "id": "810fa136",
   "metadata": {},
   "source": [
    "In this case we use the abundance table of the single full metagenome sample from above:"
   ]
  },
  {
   "cell_type": "code",
   "execution_count": null,
   "id": "adb6a50f",
   "metadata": {
    "vscode": {
     "languageId": "r"
    }
   },
   "outputs": [],
   "source": [
    "sylph <- read_delim(\"~/kmc_workshop/inputs/metagenome/MSM79H87_sylph_profile.tbl\")\n",
    "head(sylph)"
   ]
  },
  {
   "cell_type": "markdown",
   "id": "a73e4196",
   "metadata": {},
   "source": [
    "We now create an abundance matrix from the sylph abundance table:"
   ]
  },
  {
   "cell_type": "code",
   "execution_count": null,
   "id": "41c1aa51",
   "metadata": {
    "scrolled": true,
    "vscode": {
     "languageId": "r"
    }
   },
   "outputs": [],
   "source": [
    "# The GTDB taxonomic table is part of the GTDB release, that you can download here: https://ecogenomics.github.io/GTDBTk/installing/index.html\n",
    "gtdb_taxa <- read_delim(\n",
    "  \"~/kmc_workshop/inputs/metagenome/bac120_taxonomy_r220.tsv.gz\",\n",
    "   col_names = c(\"genome_id\",\"taxa_name\"),delim = \"\\t\") %>%\n",
    "                mutate(genome_id=gsub(\"^[A-Z]+_\",\"\",genome_id))\n",
    "head(gtdb_taxa)\n",
    "\n",
    "sylph_withtaxa <- sylph %>% \n",
    "  select(genome_id=Genome_file,Sample=Sample_file, Abundance=Taxonomic_abundance) %>% \n",
    "  mutate(Sample=gsub(\"_R_R1_clean.fastq.gz\",\"\",Sample), \n",
    "         genome_id=gsub(\"_genomic.fna.gz\",\"\",basename(genome_id))) %>%\n",
    "  left_join(gtdb_taxa, by=\"genome_id\")\n",
    "\n",
    "head(sylph_withtaxa)"
   ]
  },
  {
   "cell_type": "code",
   "execution_count": null,
   "id": "5e20f554",
   "metadata": {
    "scrolled": false,
    "vscode": {
     "languageId": "r"
    }
   },
   "outputs": [],
   "source": [
    "abundance_df <- sylph_withtaxa %>% \n",
    "  select(Taxa = taxa_name, Abundance, Sample) %>% \n",
    "  group_by(Sample, Taxa) %>%\n",
    "  summarise(Abundance = sum(Abundance))\n",
    "\n",
    "\n",
    "abundance_matrix <- abundance_df %>%\n",
    "  pivot_wider(\n",
    "    names_from = Sample, \n",
    "    values_from = c(Abundance),\n",
    "    values_fill = 0) %>%\n",
    "  column_to_rownames(var = \"Taxa\") %>%\n",
    "  as.matrix()\n",
    "head(abundance_matrix)"
   ]
  },
  {
   "cell_type": "markdown",
   "id": "85e6bb13",
   "metadata": {},
   "source": [
    "From the taxa_names column in our sylph_withtaxa object we can now create a taxonomic rank matrix by splitting the strings in this column by the delimiter and putting the splitted parts into an empty matrix."
   ]
  },
  {
   "cell_type": "code",
   "execution_count": null,
   "id": "4cbf671f",
   "metadata": {
    "vscode": {
     "languageId": "r"
    }
   },
   "outputs": [],
   "source": [
    "taxsplit <- strsplit(rownames(abundance_matrix), split=\";\", fixed = TRUE)\n",
    "taxunitmatrix <- matrix(\n",
    "    NA, \n",
    "    ncol = max(sapply(taxsplit, length)), \n",
    "    nrow = length(taxsplit))\n",
    "\n",
    "colnames(taxunitmatrix) <- c(\n",
    "    \"Kingdom\",\n",
    "    \"Phylum\",\n",
    "    \"Class\",\n",
    "    \"Order\", \n",
    "    \"Family\",\n",
    "    \"Genus\",\n",
    "    \"Species\", \n",
    "    \"Strain\")[1:ncol(taxunitmatrix)]\n",
    "rownames(taxunitmatrix) <- rownames(abundance_matrix)\n",
    "\n",
    "for (i in 1:nrow(taxunitmatrix)){\n",
    "    taxunitmatrix[i, 1:length(taxsplit[[i]])] <- taxsplit[[i]]\n",
    "}\n",
    "taxunitmatrix <- gsub(\"[a-z]__\", \"\", taxunitmatrix)\n",
    "\n",
    "rownames(taxunitmatrix) <- taxunitmatrix[,\"Species\"]\n",
    "\n",
    "taxunitmatrix %>% head()\n",
    "\n",
    "rownames(abundance_matrix) <- taxunitmatrix[,\"Species\"]\n",
    "\n",
    "head(abundance_matrix)"
   ]
  },
  {
   "cell_type": "markdown",
   "id": "c406bd66",
   "metadata": {},
   "source": [
    "We also need a metadata table for our samples. This could be created as follows:"
   ]
  },
  {
   "cell_type": "code",
   "execution_count": null,
   "id": "e2403520",
   "metadata": {
    "vscode": {
     "languageId": "r"
    }
   },
   "outputs": [],
   "source": [
    "samples <- data.frame(SampleID=\"MSM79H87\",metadata='some_meta_data') %>% \n",
    "  mutate(ID=SampleID) %>% \n",
    "  column_to_rownames(\"SampleID\")\n",
    "head(samples)"
   ]
  },
  {
   "cell_type": "markdown",
   "id": "0290c491",
   "metadata": {},
   "source": [
    "Now we have everything together to create a phyloseq object with which we can analyze further."
   ]
  },
  {
   "cell_type": "code",
   "execution_count": null,
   "id": "34c520c6",
   "metadata": {
    "vscode": {
     "languageId": "r"
    }
   },
   "outputs": [],
   "source": [
    "otu_table_ps <- otu_table(abundance_matrix, taxa_are_rows = TRUE)\n",
    "tax_table_ps <- tax_table(taxunitmatrix)\n",
    "sample_data_ps <- sample_data(samples)\n",
    "physeq <- phyloseq(tax_table_ps, otu_table_ps, sample_data_ps)\n",
    "\n",
    "physeq"
   ]
  },
  {
   "cell_type": "markdown",
   "id": "d8b45671",
   "metadata": {},
   "source": [
    "We take one last look at a stacked bar plot and see that we can now in principle apply everything, we learned earlier onto this phyloseq object containing metagenomic data!"
   ]
  },
  {
   "cell_type": "code",
   "execution_count": null,
   "id": "4d14b48b",
   "metadata": {
    "scrolled": false,
    "vscode": {
     "languageId": "r"
    }
   },
   "outputs": [],
   "source": [
    "options(repr.plot.width = 12, repr.plot.height = 12, repr.plot.res = 100) #Set the plot size\n",
    "\n",
    "physeq %>% \n",
    "  tax_glom(\"Phylum\") %>%\n",
    "  plot_bar(., x=\"Sample\", fill=\"Phylum\")+\n",
    "  theme(legend.position=\"right\")+ \n",
    "  guides(fill=guide_legend(nrow=5, byrow=TRUE))"
   ]
  },
  {
   "cell_type": "markdown",
   "id": "c011e4e9",
   "metadata": {},
   "source": [
    "**With that we want to close our workshop!**\n",
    "\n",
    "If you have made it this far, we thank you very much for your attention and hope that you have learned a lot about how to work with microbiome data. If you have any questions after the workshop, feel free to write us an email, the addresses can be found above under the title of the respective notebook"
   ]
  },
  {
   "cell_type": "code",
   "execution_count": null,
   "id": "27e8933a",
   "metadata": {
    "vscode": {
     "languageId": "r"
    }
   },
   "outputs": [],
   "source": [
    "sessionInfo()"
   ]
  }
 ],
 "metadata": {
  "kernelspec": {
   "display_name": "kmc_workshop",
   "language": "R",
   "name": "kmc_workshop"
  },
  "language_info": {
   "codemirror_mode": "r",
   "file_extension": ".r",
   "mimetype": "text/x-r-source",
   "name": "R",
   "pygments_lexer": "r",
   "version": "4.3.3"
  }
 },
 "nbformat": 4,
 "nbformat_minor": 5
}
