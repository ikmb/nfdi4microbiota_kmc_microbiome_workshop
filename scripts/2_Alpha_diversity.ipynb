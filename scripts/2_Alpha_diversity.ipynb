{
 "cells": [
  {
   "cell_type": "raw",
   "id": "2a62afa6",
   "metadata": {
    "vscode": {
     "languageId": "raw"
    }
   },
   "source": [
    "---\n",
    "title: \"Alpha diversity analysis: Measuring within-sample microbial diversity\"\n",
    "author: \"Ana Schaan (aschaan@ikmb.uni-kiel.de)\" \n",
    "---"
   ]
  },
  {
   "cell_type": "markdown",
   "id": "1b36ee2a",
   "metadata": {},
   "source": [
    "# Preparation"
   ]
  },
  {
   "cell_type": "markdown",
   "id": "4281ef49",
   "metadata": {},
   "source": [
    "This section focuses on understanding and analyzing alpha diversity, which reflects the diversity within individual microbial communities.\\\n",
    "We will learn how to calculate different alpha diversity metrics using the `phyloseq` package and visualize the results using the `ggplot2` package. We will also explore statistical approaches to compare alpha diversity across different groups of samples, giving you practical insights into microbiome data interpretation."
   ]
  },
  {
   "cell_type": "markdown",
   "id": "e5f74d00",
   "metadata": {
    "vscode": {
     "languageId": "r"
    }
   },
   "source": [
    "## Loading essential libraries"
   ]
  },
  {
   "cell_type": "code",
   "execution_count": null,
   "id": "6a662df7",
   "metadata": {
    "vscode": {
     "languageId": "r"
    }
   },
   "outputs": [],
   "source": [
    "# 'phyloseq' -- An R package for reproducible interactive analysis and graphics of microbiome census data\n",
    "library(phyloseq)\n",
    "# 'vegan' -- Ordination methods, diversity analysis and other functions for community and vegetation ecologists\n",
    "library(vegan) \n",
    "# 'ggplot2' -- Used for creating graphics and visualizations.\n",
    "library(ggplot2) \n",
    "# 'ggpubr' -- Also used for creating graphics and visualizations.\n",
    "library(ggpubr)\n",
    "# 'cowplot' -- Also used for creating graphics and visualizations.\n",
    "library(cowplot)\n",
    "# 'dplyr' -- Used for data manipulation; contains dozens of very useful fuctions\n",
    "library(dplyr)"
   ]
  },
  {
   "cell_type": "markdown",
   "id": "b263b3d5",
   "metadata": {},
   "source": [
    "## Set working directory and import the files we will use for downstream analyses"
   ]
  },
  {
   "cell_type": "code",
   "execution_count": null,
   "id": "c8dd5f6f",
   "metadata": {
    "vscode": {
     "languageId": "r"
    }
   },
   "outputs": [],
   "source": [
    "setwd(\"~/kmc_workshop\")\n",
    "path <- paste0(\"~/kmc_workshop/inputs/\")\n",
    "\n",
    "# Import our feature table, establishing the first row as the rownames, and converting it to a matrix.\n",
    "# This table contains our abundance data for each taxa across samples\n",
    "featureTable <- read.table(paste0(path,\"feature-table-gmbc1.tsv\"), header=T, check.names=F, row.names=1)\n",
    "featureTable <- as.matrix(featureTable)\n",
    "\n",
    "# Import our taxonomy table\n",
    "# This table links the ASV names/codes to its corresponding taxonomic classification\n",
    "taxTable <- read.csv(paste0(path,\"taxonomy_gmbc1_form.csv\"), header=TRUE, row.names=1)\n",
    "taxTable <- as.matrix(taxTable)\n",
    "\n",
    "# Import our rooted tree (read_tree is a function from the `phyloseq` package)\n",
    "# This newick object represents the phylogenetic relationships between ASVs\n",
    "Tree <- read_tree(paste0(path,\"tree-gmbc1.nwk\"))\n",
    "\n",
    "# Import our metadata table\n",
    "# This table contains sample-related information (such as lifestyle, age, sex etc)\n",
    "metadataTable <- read.table(paste0(path,\"metadata_gmbc_bn10_complete_fixed.tsv\"), header=TRUE,sep=\"\\t\", row.names=1)\n"
   ]
  },
  {
   "cell_type": "markdown",
   "id": "25ce826a",
   "metadata": {},
   "source": [
    "## Subset samples \n",
    "\n",
    "We will subset the dataset to make our workshop more dynamic and individualized! Let's list the countries with the urbanism information using the `count` function in R.\n",
    "Choose any **two** countries from the list below that would like to work with during the next analysis steps. \n",
    "Don't worry, you can always come back and change your selection if you'd like. "
   ]
  },
  {
   "cell_type": "code",
   "execution_count": null,
   "id": "70fc0d53",
   "metadata": {
    "vscode": {
     "languageId": "r"
    }
   },
   "outputs": [],
   "source": [
    "metadataTable %>% count(country, urbanism)"
   ]
  },
  {
   "cell_type": "code",
   "execution_count": null,
   "id": "7e3fdafe",
   "metadata": {
    "vscode": {
     "languageId": "r"
    }
   },
   "outputs": [],
   "source": [
    "# Choose the two countries you'd like to work with and subset the metadata table\n",
    "\n",
    "subset_metadata <- subset(metadataTable, country == \"Ghana\" | country == \"Rwanda\")\n"
   ]
  },
  {
   "cell_type": "markdown",
   "id": "256e5766",
   "metadata": {},
   "source": [
    "## Import and integrate data into the phyloseq package\n",
    "\n",
    "We will combine our datatypes into a single `phyloseq` object, which allows us to store the microbiome data and access all of the package's functions"
   ]
  },
  {
   "cell_type": "code",
   "execution_count": null,
   "id": "568625d8",
   "metadata": {
    "vscode": {
     "languageId": "r"
    }
   },
   "outputs": [],
   "source": [
    "# Component 1: the OTU/ASV table \n",
    "features <- otu_table(featureTable, taxa_are_rows = TRUE)\n",
    "\n",
    "# Component 2: taxonomy containing Kingdom, Phylum, Class, Order, Family, Genus, Species\n",
    "taxonomy <- tax_table(taxTable)\n",
    "\n",
    "# Component 3: phylogenetic tree\n",
    "tree <- Tree\n",
    "\n",
    "# Component 4: metadata\n",
    "metadata <- sample_data(subset_metadata)\n",
    "\n",
    "# Combine all into a single phyloseq object\n",
    "ps <- phyloseq(features, taxonomy, metadata, tree)\n",
    "\n",
    "# Check the class of the created object to confirm it's a phyloseq object\n",
    "class(ps)\n",
    "\n",
    "# Print a summary of the phyloseq object\n",
    "ps\n",
    "\n",
    "# Let's save this object so we can use it in another script later\n",
    "save(ps, file = \"~/kmc_workshop/R_objects/subset_phyloseq_object.RData\")\n",
    "\n",
    "# To use this object again, just run: load(\"phyloseq_object.RData\")"
   ]
  },
  {
   "cell_type": "markdown",
   "id": "6abb2acf",
   "metadata": {},
   "source": [
    "# Data exploration\n",
    "## Explore the phyloseq object"
   ]
  },
  {
   "cell_type": "code",
   "execution_count": null,
   "id": "43b758f7",
   "metadata": {
    "vscode": {
     "languageId": "r"
    }
   },
   "outputs": [],
   "source": [
    "nsamples(ps) # Number of samples\n",
    "ntaxa(ps) # Number of ASVs\n",
    "rank_names(ps) # Taxonomy levels\n",
    "sample_variables(ps) # What metadata\n",
    "sample_sums(ps) # How many reads per sample"
   ]
  },
  {
   "cell_type": "markdown",
   "id": "65199c5f",
   "metadata": {},
   "source": [
    "## Distribution of Reads per ASV\n",
    "\n",
    "Let's take a look at the structure of our data using `ggplot2`\n"
   ]
  },
  {
   "cell_type": "code",
   "execution_count": null,
   "id": "2b65b32e",
   "metadata": {
    "vscode": {
     "languageId": "r"
    }
   },
   "outputs": [],
   "source": [
    "# Create a summary table with total read count per ASV\n",
    "dataTable <- data.frame(tax_table(ps), TotalCounts = taxa_sums(ps), ASV = taxa_names(ps))\n",
    "\n",
    "# Use `ggplot2` to visualize the distribution of these reads with a histogram\n",
    "ggplot(dataTable, aes(TotalCounts)) + \n",
    "  geom_histogram() + ggtitle(\"Distribution of Reads per ASVs\") + \n",
    "  labs(x = \"Total Reads per ASV\", y = \"Number of ASVs\")\n",
    "\n",
    "# Save the plot in our working directory for future reference\n",
    "ggsave(\"Reads_per_ASV.pdf\") \n"
   ]
  },
  {
   "cell_type": "markdown",
   "id": "7f6f24d5",
   "metadata": {},
   "source": [
    "We can observe that most of the ASVs in our dataset are rare. In microbiome studies, it is common to find that the majority of the microbial taxa have low abundance, while only a small number of ASVs dominate the community. \n",
    "\n",
    "- Rare Taxa: The high frequency of ASVs with low read counts suggests that a large portion of the microbial community consists of rare taxa.\n",
    "\n",
    "- Dominant Taxa: The smaller number of ASVs with high read counts represent the core microbial community.\n",
    "\n",
    "- Implications for Analysis: The distribution of reads per ASV is important to interpret diversity metrics and when considering normalization or filtering. For example, we might need to decide whether to include or exclude rare taxa in downstream analyses, as they can influence the results of alpha and beta diversity calculations.\n"
   ]
  },
  {
   "cell_type": "markdown",
   "id": "abc8e8cc",
   "metadata": {},
   "source": [
    "# Alpha Diversity Analysis\n",
    "## Manual Calculation of Alpha Diversity Metrics\n",
    "\n",
    "Next, let's manually calculate a few key alpha diversity metrics for a single sample. This will give you a sense of what each metric represents. By calculating the metrics manually, you will get a closer look at what is taken into account in each formula, which will later be compared to the automatically generated values using the `phyloseq` package.\n"
   ]
  },
  {
   "cell_type": "code",
   "execution_count": null,
   "id": "1165a00f",
   "metadata": {
    "vscode": {
     "languageId": "r"
    }
   },
   "outputs": [],
   "source": [
    "# Randomly select a sample from your subsetted Feature table data\n",
    "subset_samples <- featureTable[, colnames(featureTable) %in% rownames(subset_metadata)]\n",
    "\n",
    "random_sample <- sample(colnames(subset_samples), size=1)\n",
    "random_sample\n",
    "\n",
    "# Calculate the total number of reads in the random sample to use as the denominator for proportions.\n",
    "total_reads <- sum(subset_samples[, random_sample])\n",
    "\n",
    "# Calculate the proportion of reads assigned to each ASV in the random sample\n",
    "proportions <- subset_samples[, random_sample] / total_reads"
   ]
  },
  {
   "cell_type": "markdown",
   "id": "5aaa9735",
   "metadata": {},
   "source": [
    "## Number of Observed ASV (or Observed Richness)\n",
    "\n",
    "This metric is as straightforward as it sounds: simply the count of unique ASVs present in your sample. We calculate it by summing the ASVs that have a read count greater than zero."
   ]
  },
  {
   "cell_type": "code",
   "execution_count": null,
   "id": "4cde6386",
   "metadata": {
    "vscode": {
     "languageId": "r"
    }
   },
   "outputs": [],
   "source": [
    "observed_richness_manual <- sum(subset_samples[, random_sample] > 0)\n",
    "observed_richness_manual"
   ]
  },
  {
   "cell_type": "markdown",
   "id": "01fbbbe7",
   "metadata": {},
   "source": [
    "\n",
    "## Shannon Diversity\n",
    "\n",
    "Shannon diversity accounts for both the abundance and evenness of the ASVs in the sample. We calculate it by summing the proportion of reads * log(proportion) for each ASV."
   ]
  },
  {
   "cell_type": "code",
   "execution_count": null,
   "id": "bb84a684",
   "metadata": {
    "vscode": {
     "languageId": "r"
    }
   },
   "outputs": [],
   "source": [
    "shannon_manual <- -sum(proportions[proportions > 0] * log(proportions[proportions > 0]))\n",
    "shannon_manual"
   ]
  },
  {
   "cell_type": "markdown",
   "id": "9acb907a",
   "metadata": {},
   "source": [
    "## Chao1\n",
    "\n",
    "Chao1 accounts for unseen species by considering singletons (ASVs with only one read) and doubletons (ASVs with two reads). It considers an estimate of the number of species we were not able to detect in our sequencing efforts. If we observe species with very few reads, it is likely that other rare species are present but have not been detected. It does not account for evenness."
   ]
  },
  {
   "cell_type": "code",
   "execution_count": null,
   "id": "2669ef77",
   "metadata": {
    "vscode": {
     "languageId": "r"
    }
   },
   "outputs": [],
   "source": [
    "singleton <- sum(subset_samples[, random_sample] == 1) # Number of singletons\n",
    "doubleton <- sum(subset_samples[, random_sample] == 2) # Number of doubletons\n",
    "\n",
    "chao1_manual <- observed_richness_manual + (singleton^2 / (2 * max(doubleton, 1)))\n",
    "chao1_manual"
   ]
  },
  {
   "cell_type": "markdown",
   "id": "3ea42dfe",
   "metadata": {},
   "source": [
    "# Alpha Diversity Calculations using phyloseq"
   ]
  },
  {
   "cell_type": "code",
   "execution_count": null,
   "id": "7989c18f",
   "metadata": {
    "vscode": {
     "languageId": "r"
    }
   },
   "outputs": [],
   "source": [
    "# Estimate richness metrics available in `phyloseq` package using our ps object\n",
    "alpha_diversity <- estimate_richness(ps)\n",
    "\n",
    "# Quickly ensuring readability:\n",
    "rownames(alpha_diversity) <- gsub(\"^X\", \"\", rownames(alpha_diversity))\n",
    "alpha_diversity$sample <- rownames(alpha_diversity)\n",
    "\n",
    "# Let's see our alpha diversity values\n",
    "head(alpha_diversity)\n",
    "\n",
    "# Let's see how our random sample's results compare to our manually calculated results\n",
    "subset(alpha_diversity, sample == random_sample)"
   ]
  },
  {
   "cell_type": "markdown",
   "id": "55bba8cd",
   "metadata": {},
   "source": [
    "# Visualizations using ggplot2\n",
    "\n",
    "In the following steps, we will implement the `ggplot2` package to create and explore various visualization options. We will integrate our metadata to our alpha diversity results to provide context to our results and explore how diversity metrics are distributed across sample groups."
   ]
  },
  {
   "cell_type": "code",
   "execution_count": null,
   "id": "54b7e28f",
   "metadata": {
    "vscode": {
     "languageId": "r"
    }
   },
   "outputs": [],
   "source": [
    "# Convert our sample_data to a data frame\n",
    "metadata <- sample_data(ps)\n",
    "\n",
    "# Combine alpha diversity metrics and sample data\n",
    "alpha_div_meta <- cbind(metadata, alpha_diversity)\n",
    "\n",
    "# Let's check what our data frame looks like\n",
    "head(alpha_div_meta)"
   ]
  },
  {
   "cell_type": "markdown",
   "id": "bc6827d3",
   "metadata": {
    "vscode": {
     "languageId": "r"
    }
   },
   "source": [
    "First, we will plot how Shannon diversity is distributed across Lifestyle groups. Using **boxplots** is the most common visualization for comparing alpha diversity across **categorical variables**. Feel free to explore the other metrics and categorical sample groups to obtain further insights."
   ]
  },
  {
   "cell_type": "code",
   "execution_count": null,
   "id": "5291c4e8",
   "metadata": {
    "vscode": {
     "languageId": "r"
    }
   },
   "outputs": [],
   "source": [
    "# In this plot, Lifestyle categories will be plotted on the X axis and Shannon diversity index values on the Y axis.\n",
    "\n",
    "p_Shannon_urbanism <- ggplot(alpha_div_meta, aes(x = urbanism, y = Shannon, fill = urbanism)) +\n",
    "  geom_boxplot() + # This command specifies we will plot using boxplots\n",
    "  theme_minimal() +\n",
    "  ggtitle(\"Shannon Diversity Across Urbanism Groups\") +\n",
    "  labs(x = \"Urbanism\", y = \"Shannon Diversity\")\n",
    "\n",
    "p_Shannon_urbanism\n",
    "\n",
    "# Save the plot for future reference\n",
    "ggsave(\"~/kmc_workshop/results/alphadiv_shannon_urbanism_boxplot.pdf\")"
   ]
  },
  {
   "cell_type": "markdown",
   "id": "a1e4368f",
   "metadata": {},
   "source": [
    "Another option is using **violin plots**, which show the distribution shape in a different way."
   ]
  },
  {
   "cell_type": "code",
   "execution_count": null,
   "id": "a53a108a",
   "metadata": {
    "vscode": {
     "languageId": "r"
    }
   },
   "outputs": [],
   "source": [
    "p_Shannon_country <- ggplot(alpha_div_meta, aes(x = locality, y = Shannon, fill = country)) +\n",
    "  geom_violin(trim = FALSE) +\n",
    "  theme_minimal() + geom_jitter(width=0.1) +\n",
    "  ggtitle(\"Shannon Diversity Across Countries\") +\n",
    "  labs(x = \"Country\", y = \"Shannon Diversity\") +\n",
    "  theme(axis.text.x = element_text(angle = 45, hjust = 1))\n",
    "\n",
    "p_Shannon_country\n",
    "\n",
    "# Save the plot for future reference\n",
    "ggsave(\"~/kmc_workshop/results/alphadiv_shannon_country_violin.pdf\")"
   ]
  },
  {
   "cell_type": "markdown",
   "id": "2b64b55d",
   "metadata": {},
   "source": [
    "We can also explore relationships between alpha diversity and **continuous** metadata variables, such as age, and latitude. Let's see this using a **scatter plot**."
   ]
  },
  {
   "cell_type": "code",
   "execution_count": null,
   "id": "d33e0980",
   "metadata": {
    "vscode": {
     "languageId": "r"
    }
   },
   "outputs": [],
   "source": [
    "# Scatter plot of Shannon diversity vs. age\n",
    "\n",
    "p_Shannon_country <- ggplot(alpha_div_meta, aes(x = age, y = Shannon)) +\n",
    "  geom_point() +\n",
    "  geom_smooth(method = \"lm\", color = \"blue\") +  # Add a linear regression line\n",
    "  theme_minimal() + stat_cor() +\n",
    "  ggtitle(\"Shannon Diversity vs. Age\") +\n",
    "  labs(x = \"Age\", y = \"Shannon Diversity\")\n",
    "\n",
    "p_Shannon_country\n",
    "\n",
    "# Save the plot for future reference\n",
    "ggsave(\"~/kmc_workshop/results/alphadiv_shannon_age_scatterplot.pdf\")"
   ]
  },
  {
   "cell_type": "markdown",
   "id": "76940fcf",
   "metadata": {},
   "source": [
    "In `ggplot2` we also have the option of using **facets** to compare diversity across a combination of variables, such as urbanism and sex."
   ]
  },
  {
   "cell_type": "code",
   "execution_count": null,
   "id": "2b73edb6",
   "metadata": {
    "vscode": {
     "languageId": "r"
    }
   },
   "outputs": [],
   "source": [
    "# Faceted boxplots of Shannon diversity vs Age and Urbanism\n",
    "\n",
    "p_Shannon_scatter <- ggplot(alpha_div_meta, aes(x = urbanism, y = Shannon, fill = sex)) +\n",
    "  geom_boxplot() + geom_jitter(width=0.1) +\n",
    "  facet_wrap(~ sex) + # Here we establish the facets\n",
    "  theme_minimal() +\n",
    "  ggtitle(\"Shannon Diversity by Urbanism and Sex\") +\n",
    "  labs(x = \"Urbanism\", y = \"Shannon Diversity\") +\n",
    "  theme(axis.text.x = element_text(angle = 45, hjust = 1))\n",
    "\n",
    "p_Shannon_scatter\n",
    "\n",
    "# Save the plot for future reference\n",
    "ggsave(\"~/kmc_workshop/results/alphadiv_shannon_ageUrbanism_facets.pdf\")"
   ]
  },
  {
   "cell_type": "markdown",
   "id": "c7f09852",
   "metadata": {},
   "source": [
    "## ASK: Try with other variables!"
   ]
  },
  {
   "cell_type": "markdown",
   "id": "c640146b",
   "metadata": {
    "solution2": "hidden",
    "solution2_first": true
   },
   "source": [
    "Now that you know how to create plots, apply similar steps to create a boxplot for the Simpson index across countries."
   ]
  },
  {
   "cell_type": "code",
   "execution_count": null,
   "id": "ecf8f5e7",
   "metadata": {
    "solution2": "hidden",
    "vscode": {
     "languageId": "r"
    }
   },
   "outputs": [],
   "source": [
    "p_Simpson_lifestyle <- ggplot(alpha_div_meta, aes(x = country, y = Simpson, fill = country)) +\n",
    "  geom_boxplot() + geom_jitter(width=0.1) +\n",
    "  theme_minimal() +\n",
    "  ggtitle(\"Simpson Diversity Across Countries\") +\n",
    "  labs(x = \"Country\", y = \"Simpson Diversity\") +\n",
    "  theme(axis.text.x = element_text(angle = 45, hjust = 1))\n",
    "\n",
    "# Display the plot\n",
    "p_Simpson_lifestyle"
   ]
  },
  {
   "cell_type": "code",
   "execution_count": null,
   "id": "57b37b6f",
   "metadata": {
    "vscode": {
     "languageId": "r"
    }
   },
   "outputs": [],
   "source": [
    "# Run your own code here:\n",
    "\n"
   ]
  },
  {
   "cell_type": "markdown",
   "id": "adecdc6c",
   "metadata": {
    "vscode": {
     "languageId": "r"
    }
   },
   "source": [
    "# Rarefaction in alpha diversity analysis\n",
    "\n",
    "In our exploration of alpha diversity, it is essential to consider whether we should rarefy our data. Rarefaction is a technique used to ensure that diversity estimates are comparable across samples with different levels of sampling depth (number of reads).\n",
    "\n",
    "It is likely that diversity increases according to the number of reads each sample has. Let's take a look below."
   ]
  },
  {
   "cell_type": "code",
   "execution_count": null,
   "id": "08ddf6cc",
   "metadata": {
    "vscode": {
     "languageId": "r"
    }
   },
   "outputs": [],
   "source": [
    "# We will plot the number of ASVs per sample vs Shannon diversity indexes\n",
    "ggplot(alpha_div_meta, aes(x = sample_sums(ps), y = Shannon)) +\n",
    "  geom_point() +\n",
    "  geom_smooth(method = \"lm\") +\n",
    "  theme_minimal() +\n",
    "  ggtitle(\"Shannon Diversity vs. Sequencing Depth\") +\n",
    "  labs(x = \"Sequencing Depth\", y = \"Shannon Diversity\")\n",
    "\n",
    "# Next, let's plot number of ASVs per sample vs Number of Observed ASVs\n",
    "\n",
    "ggplot(alpha_div_meta, aes(x = sample_sums(ps), y = Observed)) +\n",
    "  geom_point() +\n",
    "  geom_smooth(method = \"lm\") +\n",
    "  theme_minimal() +\n",
    "  ggtitle(\"Number of Observed ASVs vs. Sequencing Depth\") +\n",
    "  labs(x = \"Sequencing Depth\", y = \"Number of Observed ASVs\")"
   ]
  },
  {
   "cell_type": "markdown",
   "id": "89a349a5",
   "metadata": {},
   "source": [
    "The plot demonstrates that deeper sequencing results in higher diversity estimates, which can be a source of bias. To ensure that diversity comparisons between samples are not influenced by differences in sequencing depth, we can apply rarefaction. This standardizes the number of reads across samples, allowing for more accurate and comparable diversity estimates.\n",
    "\n",
    "To decide how we will standardize, we can plot a **rarefaction curve** using the `vegan` package. A rarefaction curve plots the number of observed ASVs against the number of reads sampled. It shows how species richness accumulates as more reads are added."
   ]
  },
  {
   "cell_type": "code",
   "execution_count": null,
   "id": "6ac8faaf",
   "metadata": {
    "vscode": {
     "languageId": "r"
    }
   },
   "outputs": [],
   "source": [
    "# Using the `rarecurve` function, we will plot a rarefaction curve.\n",
    "rarecurve(t(subset_samples), step = 200, cex = 0.6)\n",
    "\n",
    "# Let's zoom in on the X axis identify where we can establish a cut off point\n",
    "rarecurve(t(subset_samples), step = 200, cex = 0.6, xlim=c(0,20000))"
   ]
  },
  {
   "cell_type": "markdown",
   "id": "c6e34e4d",
   "metadata": {},
   "source": [
    "## Choosing the Sample Depth Cutoff\n",
    "\n",
    "When rarefying, select a cutoff that balances keeping as many samples as possible while standardizing sequencing depth across all samples. Today we'll use a cutoff of **8000** sequences per sample, ensuring enough samples are retained for downstream analysis."
   ]
  },
  {
   "cell_type": "code",
   "execution_count": null,
   "id": "6690081e",
   "metadata": {
    "vscode": {
     "languageId": "r"
    }
   },
   "outputs": [],
   "source": [
    "# Use the rarefy_even_depth function from the phyloseq package\n",
    "\n",
    "ps.rare = rarefy_even_depth(ps, rngseed=1, sample.size=8000, replace=F)\n",
    "\n",
    "# Let's save this phyloseq object in our environment in case we need it later:\n",
    "save(ps.rare, file = \"R_objects/subset_rare_phyloseq_object.RData\")\n",
    "\n",
    "# Let's take a look at the rarefied phyloseq object\n",
    "ps.rare"
   ]
  },
  {
   "cell_type": "markdown",
   "id": "f3badee3",
   "metadata": {},
   "source": [
    "Using our rarefied phyloseq object, let's recalculate and re-plot the alpha diversity measurements. "
   ]
  },
  {
   "cell_type": "code",
   "execution_count": null,
   "id": "737c8a45",
   "metadata": {
    "vscode": {
     "languageId": "r"
    }
   },
   "outputs": [],
   "source": [
    "# Estimate richness metrics available in `phyloseq` package using our ps object\n",
    "alpha_diversity_rare <- estimate_richness(ps.rare)\n",
    "\n",
    "# Quickly ensuring readability:\n",
    "rownames(alpha_diversity_rare) <- gsub(\"^X\", \"\", rownames(alpha_diversity_rare))\n",
    "alpha_diversity_rare$sample <- rownames(alpha_diversity_rare)\n",
    "\n",
    "# Let's see our alpha diversity values\n",
    "head(alpha_diversity_rare)\n",
    "\n",
    "# Combine alpha diversity metrics and sample data\n",
    "alpha_div_rare_meta <- cbind(metadata, alpha_diversity)"
   ]
  },
  {
   "cell_type": "markdown",
   "id": "e2e7a416",
   "metadata": {},
   "source": [
    "Let's visualize our results and compare with non-rarefied data. We will plot both figures side by side using the `cowplot` package."
   ]
  },
  {
   "cell_type": "code",
   "execution_count": null,
   "id": "c9d4c371",
   "metadata": {
    "vscode": {
     "languageId": "r"
    }
   },
   "outputs": [],
   "source": [
    "# In this plot, Urbanism categories will be plotted on the X axis and Shannon diversity index values on the Y axis. We will use\n",
    "\n",
    "p_Shannon_urbanism_rare <- ggplot(alpha_div_rare_meta, aes(x = urbanism, y = Shannon, fill = urbanism)) +\n",
    "  geom_boxplot() + # This command specifies we will plot using boxplots\n",
    "  theme_minimal() +\n",
    "  ggtitle(\"Rarefied to 8000 reads\") +\n",
    "  labs(x = \"Urbanism\", y = \"Shannon Diversity\") + theme(legend.position = \"none\")\n",
    "\n",
    "plot_grid(p_Shannon_urbanism, p_Shannon_urbanism_rare, nrow=1)\n",
    "\n",
    "# Save the plot for future reference\n",
    "ggsave(\"~/kmc_workshop/results/alphadiv_shannon_lifestyle_boxplot_rare.pdf\")"
   ]
  },
  {
   "cell_type": "markdown",
   "id": "fe1f702a",
   "metadata": {
    "solution2": "hidden",
    "solution2_first": true
   },
   "source": [
    "## TASK: Try rarefying your data to a lower depth. How does that affect the amount of OTUs you have to work with?"
   ]
  },
  {
   "cell_type": "code",
   "execution_count": null,
   "id": "40d88c85",
   "metadata": {
    "solution2": "hidden",
    "vscode": {
     "languageId": "r"
    }
   },
   "outputs": [],
   "source": [
    "# Use the rarefy_even_depth function from the phyloseq package\n",
    "\n",
    "ps.rare2 = rarefy_even_depth(ps, rngseed=1, sample.size=4000, replace=F)\n",
    "\n",
    "# Let's take a look at the rarefied phyloseq object\n",
    "ps.rare2"
   ]
  },
  {
   "cell_type": "code",
   "execution_count": null,
   "id": "e1ce17dd",
   "metadata": {
    "vscode": {
     "languageId": "r"
    }
   },
   "outputs": [],
   "source": [
    "# Run your own code here:\n",
    "\n"
   ]
  },
  {
   "cell_type": "markdown",
   "id": "cd6b85bf",
   "metadata": {},
   "source": [
    "# Statistical Analysis of Alpha Diversity\n",
    "\n",
    "Now that we have visualized the alpha diversity metrics using both rarefied and non-rarefied data, it's time to move on to statistical analyses. This step will help us determine whether the differences in alpha diversity between different groups are statistically significant.\n",
    "\n",
    "We will:\n",
    "1. **Test for Normality:** Assess the distribution of alpha diversity metrics to determine whether parametric or non-parametric tests are appropriate.\n",
    "2. **Apply Statistical Tests:** Based on the normality test results, we will apply either parametric tests (t-tests, ANOVA) or non-parametric tests (Wilcoxon, Kruskal-Wallis) to compare alpha diversity across groups.\n",
    "3. **Visualize Group Comparisons:** Generate plots with statistical annotations to visually interpret the differences between groups.\n"
   ]
  },
  {
   "cell_type": "code",
   "execution_count": null,
   "id": "d463f0ac",
   "metadata": {
    "vscode": {
     "languageId": "r"
    }
   },
   "outputs": [],
   "source": [
    "# Let's assess whether the alpha diversity data we will plot follows a normal distribution (which will influence whether to use a parametric or non-parametric test)\n",
    "\n",
    "# Test normality of Shannon diversity using Shapiro-Wilk test:\n",
    "shapiro.test(alpha_diversity$Shannon)\n"
   ]
  },
  {
   "cell_type": "markdown",
   "id": "0ddf2f23",
   "metadata": {},
   "source": [
    "If data is normally distributed (p-value > 0.05)"
   ]
  },
  {
   "cell_type": "code",
   "execution_count": null,
   "id": "b393b82d",
   "metadata": {
    "vscode": {
     "languageId": "r"
    }
   },
   "outputs": [],
   "source": [
    "# For 2 groups, use a t-test.\n",
    "t.test(Shannon ~ urbanism, data = alpha_div_meta)\n",
    "\n",
    "# For multiple groups, a One-way ANOVA:\n",
    "anova_result <- aov(Shannon ~ country, data = alpha_div_meta)\n",
    "summary(anova_result)"
   ]
  },
  {
   "cell_type": "markdown",
   "id": "e079951f",
   "metadata": {},
   "source": [
    "If data is NOT normally distributed (p-value < 0.05)"
   ]
  },
  {
   "cell_type": "code",
   "execution_count": null,
   "id": "e47bddef",
   "metadata": {
    "vscode": {
     "languageId": "r"
    }
   },
   "outputs": [],
   "source": [
    "# For 2 groups, use a Wilcoxon rank-sum test (also known as the Mann-Whitney U test)\n",
    "wilcox.test(Shannon ~ urbanism, data = alpha_div_meta)\n",
    "\n",
    "# For multiple groups, use Kruskal-Wallis test\n",
    "kruskal.test(Shannon ~ country, data = alpha_div_meta)"
   ]
  },
  {
   "cell_type": "markdown",
   "id": "246b0245",
   "metadata": {},
   "source": [
    "## Post-hoc tests\n",
    "\n",
    "If ANOVA or Kruskal-Wallis tests show significant differences, we can use post-hoc tests to determine which groups differ from each other."
   ]
  },
  {
   "cell_type": "code",
   "execution_count": null,
   "id": "96904981",
   "metadata": {
    "vscode": {
     "languageId": "r"
    }
   },
   "outputs": [],
   "source": [
    "# For ANOVA, use Tukey’s Honest Significant Differences (Tukey HSD) for post-hoc analysis.\n",
    "\n",
    "# Post-hoc test for ANOVA\n",
    "TukeyHSD(anova_result)\n",
    "\n",
    "# For Kruskal-Wallis, use pairwise comparisons with Wilcoxon tests (adjusting for multiple comparisons).\n",
    "\n",
    "# Post-hoc pairwise comparisons using Wilcoxon test\n",
    "pairwise.wilcox.test(alpha_div_meta$Shannon, alpha_div_meta$country, p.adjust.method = \"BH\")"
   ]
  },
  {
   "cell_type": "markdown",
   "id": "063454e9",
   "metadata": {},
   "source": [
    "## Visualization\n",
    "\n",
    "Using the stat_compare_means function of the `ggpubr` package, we can add p values to our plots"
   ]
  },
  {
   "cell_type": "code",
   "execution_count": null,
   "id": "c990fc47",
   "metadata": {
    "vscode": {
     "languageId": "r"
    }
   },
   "outputs": [],
   "source": [
    "# Using the method and the label arguments, we can select the tests to be performed and how they will be displayed\n",
    "\n",
    "ggplot(alpha_div_rare_meta, aes(x = urbanism, y = Shannon, fill = urbanism)) +\n",
    "  geom_boxplot() +\n",
    "  theme_minimal() +\n",
    "  labs(title = \"Shannon Diversity by Urbanism\",\n",
    "       x = \"Urbanism\",\n",
    "       y = \"Shannon Diversity\") + \n",
    "       stat_compare_means(method = \"wilcox.test\", label = \"p.format\", # Also try changing the \"p.format\" to \"p.signif\" to see a different type of annotation\n",
    "                       label.y = 6)  # Adjusting the label position\n",
    "       \n",
    "ggsave(\"~/kmc_workshop/results/shannon_urbanism_rare_pvalue.pdf\")"
   ]
  },
  {
   "cell_type": "markdown",
   "id": "41c84d11",
   "metadata": {
    "solution2": "hidden",
    "solution2_first": true
   },
   "source": [
    "## TASK: If you have time to spare, how about trying to plot a *violin* plot that compares *Observed Richness* between *urbanism* levels with *countries* as facets?"
   ]
  },
  {
   "cell_type": "code",
   "execution_count": null,
   "id": "35a86c51",
   "metadata": {
    "solution2": "hidden",
    "vscode": {
     "languageId": "r"
    }
   },
   "outputs": [],
   "source": [
    "ggplot(alpha_div_rare_meta, aes(x = urbanism, y = Observed, fill = urbanism)) +\n",
    "  geom_violin(trim = FALSE) + geom_jitter(width=0.1) + \n",
    "  theme_minimal() +\n",
    "  labs(title = \"Observed Richness by Urbanism across Countries\",\n",
    "       x = \"Urbanism\",\n",
    "       y = \"Observed Richness\") +\n",
    "  facet_wrap(~ country) +  # Facet by country\n",
    "  stat_compare_means(method = \"wilcox.test\", label = \"p.format\", label.y=600) +  # You can also try \"p.signif\"\n",
    "  theme(axis.text.x = element_text(angle = 45, hjust = 1))  # Adjust x-axis text for better readability\n"
   ]
  },
  {
   "cell_type": "code",
   "execution_count": null,
   "id": "9d0a55a7",
   "metadata": {
    "vscode": {
     "languageId": "r"
    }
   },
   "outputs": [],
   "source": [
    "# Run your own code here:\n",
    "\n"
   ]
  }
 ],
 "metadata": {
  "kernelspec": {
   "display_name": "kmc_workshop",
   "language": "R",
   "name": "kmc_workshop"
  },
  "language_info": {
   "codemirror_mode": "r",
   "file_extension": ".r",
   "mimetype": "text/x-r-source",
   "name": "R",
   "pygments_lexer": "r",
   "version": "4.3.3"
  }
 },
 "nbformat": 4,
 "nbformat_minor": 5
}
